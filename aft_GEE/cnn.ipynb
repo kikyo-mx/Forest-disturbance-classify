{
 "cells": [
  {
   "cell_type": "code",
   "execution_count": 1,
   "metadata": {
    "ExecuteTime": {
     "end_time": "2020-07-02T03:15:32.750561Z",
     "start_time": "2020-07-02T03:15:31.463267Z"
    }
   },
   "outputs": [],
   "source": [
    "import pandas as pd\n",
    "from sklearn.model_selection import train_test_split\n",
    "import matplotlib.pyplot as plt\n",
    "import numpy as np\n",
    "from sklearn import preprocessing\n",
    "import joblib\n",
    "from sklearn.metrics import confusion_matrix\n",
    "import torch\n",
    "import torch.nn as nn\n",
    "import torch.nn.functional as F\n",
    "from torch.utils.data import Dataset\n",
    "from torch.utils.data import DataLoader\n",
    "from torchvision import transforms"
   ]
  },
  {
   "cell_type": "code",
   "execution_count": 4,
   "metadata": {
    "ExecuteTime": {
     "end_time": "2020-07-02T03:15:32.797499Z",
     "start_time": "2020-07-02T03:15:32.781803Z"
    }
   },
   "outputs": [],
   "source": [
    "class MyDataset(Dataset):\n",
    "    def __init__(self, file_name, feature):\n",
    "        self.file_name = file_name\n",
    "        self.feature = feature\n",
    "#         self.transforms = transforms\n",
    "        data = pd.read_csv(self.file_name)\n",
    "        data = data.dropna(axis = 0)\n",
    "        self.x = data[self.feature].values\n",
    "        self.y = data['label'].values\n",
    "        self.len = len(data)\n",
    "    def __len__(self):\n",
    "        return self.len\n",
    "    def __getitem__(self, idx):\n",
    "        x_input = self.x[idx]\n",
    "        label = self.y[idx] - 1\n",
    "        return x_input, label"
   ]
  },
  {
   "cell_type": "code",
   "execution_count": 5,
   "metadata": {
    "ExecuteTime": {
     "end_time": "2020-07-02T03:15:32.813213Z",
     "start_time": "2020-07-02T03:15:32.797499Z"
    }
   },
   "outputs": [],
   "source": [
    "class Net(nn.Module):\n",
    "    def __init__(self):\n",
    "        super(Net, self).__init__()\n",
    "        self.conv1 = nn.Conv1d(in_channels=nfeature, out_channels=100, kernel_size=1, stride=2)\n",
    "        self.conv2 = nn.Conv1d(100, 200, 1, 2)\n",
    "        self.conv3 = nn.Conv1d(200, 400, 1, 2)\n",
    "    \n",
    "        self.liner1 = nn.Linear(400, 120)\n",
    "        self.liner2 = nn.Linear(120, 2)\n",
    "        \n",
    "        self.max_pool = nn.MaxPool1d(1, 2)\n",
    "        \n",
    "        self.bn = nn.BatchNorm1d(nfeature)\n",
    "        \n",
    "    def forward(self, x):\n",
    "        x = self.bn(x)\n",
    "        x = F.relu(self.conv1(x))\n",
    "        x = self.max_pool(x)\n",
    "#         print(x.shape)\n",
    "        x = F.relu(self.conv2(x))\n",
    "        x = self.max_pool(x)\n",
    "#         print(x.shape)\n",
    "        x = F.relu(self.conv3(x))\n",
    "#         print(x.shape)\n",
    "        \n",
    "        x = x.view(-1, 400)\n",
    "#         print(x.shape)\n",
    "        x = F.relu(self.liner1(x))\n",
    "#         print(x.shape)\n",
    "        x = F.relu(self.liner2(x))\n",
    "#         print(x.shape)\n",
    "        return x"
   ]
  },
  {
   "cell_type": "code",
   "execution_count": 6,
   "metadata": {
    "ExecuteTime": {
     "end_time": "2020-07-02T03:15:32.828836Z",
     "start_time": "2020-07-02T03:15:32.813213Z"
    }
   },
   "outputs": [],
   "source": [
    "def get_loader(feature):\n",
    "    train_data = MyDataset('rvalue_train.csv', feature)\n",
    "    test_data = MyDataset('rvalue_test.csv', feature)\n",
    "    train_loader = DataLoader(train_data, batch_size=64, shuffle=True)\n",
    "    test_loader = DataLoader(test_data, batch_size=64, shuffle=False)\n",
    "    return train_loader, test_loader"
   ]
  },
  {
   "cell_type": "code",
   "execution_count": 7,
   "metadata": {
    "ExecuteTime": {
     "end_time": "2020-07-02T03:15:32.844454Z",
     "start_time": "2020-07-02T03:15:32.828836Z"
    }
   },
   "outputs": [],
   "source": [
    "def train(train_loader, model, optimizer, loss_func):\n",
    "    model.train()\n",
    "    losses = []\n",
    "    TOTAL_EPOCHS = 50\n",
    "    for epoch in range(TOTAL_EPOCHS):\n",
    "        train_loss = 0.\n",
    "        train_acc = 0.\n",
    "        for i, (x, y) in enumerate(train_loader):\n",
    "            x = torch.unsqueeze(x, dim=2).float().to(device)\n",
    "            y = y.long().to(device)\n",
    "            optimizer.zero_grad()\n",
    "            outputs = model(x)\n",
    "            loss = loss_func(outputs, y)\n",
    "            loss.backward()\n",
    "            optimizer.step()\n",
    "            losses.append(loss.cpu().data.item())\n",
    "        if epoch % 9 == 0:\n",
    "            print ('Epoch : %d/%d,   Loss: %.4f'%(epoch + 1, TOTAL_EPOCHS, np.mean(losses)))"
   ]
  },
  {
   "cell_type": "code",
   "execution_count": 8,
   "metadata": {
    "ExecuteTime": {
     "end_time": "2020-07-02T03:15:32.860080Z",
     "start_time": "2020-07-02T03:15:32.844454Z"
    }
   },
   "outputs": [],
   "source": [
    "def test(test_loader, model, optimizer, loss_func):\n",
    "    model.eval()\n",
    "    correct = 0\n",
    "    total = 0\n",
    "    conf = np.zeros((2, 2))\n",
    "    for i,(x, y) in enumerate(test_loader):\n",
    "        x = torch.unsqueeze(x, dim=2).float().to(device)\n",
    "        y = y.long()\n",
    "        outputs = model(x).cpu()\n",
    "    #     print(outputs)\n",
    "        _, predicted = torch.max(outputs.data, 1)\n",
    "    #     print(predicted)\n",
    "    #     print(y)\n",
    "        total += y.size(0)\n",
    "        correct += (predicted == y).sum()\n",
    "        conf = conf + confusion_matrix(predicted, y)\n",
    "    return conf"
   ]
  },
  {
   "cell_type": "code",
   "execution_count": 9,
   "metadata": {
    "ExecuteTime": {
     "end_time": "2020-07-02T03:15:32.875701Z",
     "start_time": "2020-07-02T03:15:32.860080Z"
    }
   },
   "outputs": [],
   "source": [
    "def get_result(conf):\n",
    "    print(conf)\n",
    "    recall = conf[0][0] / conf[:, 0:1].sum() * 100\n",
    "    precision = conf[0][0] / conf[0].sum() * 100\n",
    "    accuracy = (conf[0][0] + conf[1][1]) / conf.sum() * 100\n",
    "    F1 = 2 * recall * precision / (recall + precision)\n",
    "    print('recall : %.4f %%' % recall)\n",
    "    print('precision : %.4f %%' % precision)\n",
    "    print('accuracy : %.4f %%' % accuracy)\n",
    "    print('F1 : %.4f' % F1)\n",
    "    print([recall, precision, accuracy, F1])\n",
    "    return [recall, precision, accuracy, F1]"
   ]
  },
  {
   "cell_type": "code",
   "execution_count": null,
   "metadata": {},
   "outputs": [],
   "source": [
    "class cnn:\n",
    "    def __init__(self):\n",
    "        print('cnn')\n",
    "        self.list_00 = ['PT_NDMI_0','PT_NDMI_1','PT_NDMI_2','PT_NDMI_3','PT_NDMI_4','PT_NDMI_5','PR_NDMI_1','PR_NDMI_2','PT_NBR_0',\\\n",
    "                'PT_NBR_1','PT_NBR_2','PT_NBR_3','PT_NBR_4','PT_NBR_5','PR_NBR_1','PR_NBR_2','PT_NDVI_0','PT_NDVI_1',\\\n",
    "                'PT_NDVI_2','PT_NDVI_3','PT_NDVI_4','PT_NDVI_5','PR_NDVI_1','PR_NDVI_2','TXU_ENT','TXU_asm','area','LT_mag',\\\n",
    "                'LT_dsnr','LT_dur','TXU_HOM','TXU_CON','ndvi_rvalue','ndmi_rvalue','nbr_rvalue','ndvi_slope','ndmi_slope','nbr_slope']\n",
    "\n",
    "        self.list_01  = ['PT_NDMI_0','PT_NDMI_1','PT_NDMI_2','PT_NDMI_3','PT_NDMI_4','PT_NDMI_5','PR_NDMI_1','PR_NDMI_2','PT_NBR_0',\\\n",
    "                'PT_NBR_1','PT_NBR_2','PT_NBR_3','PT_NBR_4','PT_NBR_5','PR_NBR_1','PR_NBR_2','PT_NDVI_0','PT_NDVI_1',\\\n",
    "                'PT_NDVI_2','PT_NDVI_3','PT_NDVI_4','PT_NDVI_5','PR_NDVI_1','PR_NDVI_2','TXU_ENT','TXU_asm','area','LT_mag',\\\n",
    "                'LT_dsnr','LT_dur','TXU_HOM','TXU_CON']\n",
    "\n",
    "        self.list_02  = ['PT_NDMI_0','PR_NDMI_1','PR_NDMI_2','PT_NBR_0','PR_NBR_1','PR_NBR_2','PT_NDVI_0','PR_NDVI_1','PR_NDVI_2','TXU_ENT',\\\n",
    "                'TXU_asm','area','LT_mag', 'LT_dsnr','LT_dur','TXU_HOM','TXU_CON','ndvi_rvalue','ndmi_rvalue','nbr_rvalue',\\\n",
    "                'ndvi_slope','ndmi_slope','nbr_slope']\n",
    "\n",
    "        self.feature_list = [self.list_00, self.list_01, self.list_02]\n",
    "    \n",
    "    \n",
    "    def cnn_result(self):\n",
    "        result_ABC = []\n",
    "        for feature in self.feature_list:\n",
    "            nfeature = len(feature)\n",
    "            train_loader, test_loader = get_loader(feature)\n",
    "            model = Net(nfeature).to(device)\n",
    "            optimizer = torch.optim.Adam(model.parameters(), lr=1e-3)\n",
    "            loss_func = torch.nn.CrossEntropyLoss()\n",
    "            train(train_loader, model, optimizer, loss_func)\n",
    "            conf = test(test_loader, model, optimizer, loss_func)\n",
    "            result = get_result(conf)\n",
    "            result_ABC.append(result)\n",
    "        return result_ABC"
   ]
  },
  {
   "cell_type": "code",
   "execution_count": null,
   "metadata": {},
   "outputs": [],
   "source": []
  }
 ],
 "metadata": {
  "kernelspec": {
   "display_name": "Python 3",
   "language": "python",
   "name": "python3"
  },
  "language_info": {
   "codemirror_mode": {
    "name": "ipython",
    "version": 3
   },
   "file_extension": ".py",
   "mimetype": "text/x-python",
   "name": "python",
   "nbconvert_exporter": "python",
   "pygments_lexer": "ipython3",
   "version": "3.7.6"
  },
  "varInspector": {
   "cols": {
    "lenName": 16,
    "lenType": 16,
    "lenVar": 40
   },
   "kernels_config": {
    "python": {
     "delete_cmd_postfix": "",
     "delete_cmd_prefix": "del ",
     "library": "var_list.py",
     "varRefreshCmd": "print(var_dic_list())"
    },
    "r": {
     "delete_cmd_postfix": ") ",
     "delete_cmd_prefix": "rm(",
     "library": "var_list.r",
     "varRefreshCmd": "cat(var_dic_list()) "
    }
   },
   "types_to_exclude": [
    "module",
    "function",
    "builtin_function_or_method",
    "instance",
    "_Feature"
   ],
   "window_display": false
  }
 },
 "nbformat": 4,
 "nbformat_minor": 4
}
