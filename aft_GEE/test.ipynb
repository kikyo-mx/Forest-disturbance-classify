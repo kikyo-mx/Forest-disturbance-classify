{
 "cells": [
  {
   "cell_type": "code",
   "execution_count": 4,
   "metadata": {
    "ExecuteTime": {
     "end_time": "2020-07-03T08:57:48.845654Z",
     "start_time": "2020-07-03T08:57:48.642575Z"
    }
   },
   "outputs": [],
   "source": [
    "from osgeo import gdal, ogr\n",
    "import pandas as pd\n",
    "import numpy as np\n",
    "import os\n",
    "import shapely as shply\n",
    "import matplotlib.pyplot as plt"
   ]
  },
  {
   "cell_type": "code",
   "execution_count": 5,
   "metadata": {
    "ExecuteTime": {
     "end_time": "2020-07-03T08:57:50.383444Z",
     "start_time": "2020-07-03T08:57:50.151562Z"
    }
   },
   "outputs": [],
   "source": [
    "path = 'D:\\\\yyx\\\\GEE\\\\data\\\\NE_shp_2\\\\'\n",
    "empty_list = []\n",
    "for i in range(115, 137):\n",
    "    for j in range(54, 38, -1):\n",
    "        for year in range(1988, 2020):\n",
    "            name = str(year) + '_' + str(i) + '_' + str(j) + '.shp'\n",
    "            if not os.path.exists(path + name):\n",
    "                empty_list.append(name)"
   ]
  },
  {
   "cell_type": "code",
   "execution_count": 6,
   "metadata": {
    "ExecuteTime": {
     "end_time": "2020-07-03T08:58:40.089526Z",
     "start_time": "2020-07-03T08:58:40.073915Z"
    }
   },
   "outputs": [],
   "source": [
    "pd.DataFrame(empty_list).to_csv('empty_list.csv')"
   ]
  },
  {
   "cell_type": "code",
   "execution_count": 2,
   "metadata": {},
   "outputs": [],
   "source": [
    "path_shp = 'D:\\\\yyx\\\\GEE\\\\data\\\\test\\\\2014_126_54.shp'\n",
    "start_year = 1988\n",
    "end_year = 2019\n",
    "# path_tif = 'D:\\\\yyx\\\\GEE\\\\data\\\\Buened_Arae_2003\\\\CCI_BA_2003_50N_120E.tif'"
   ]
  },
  {
   "cell_type": "code",
   "execution_count": 3,
   "metadata": {},
   "outputs": [],
   "source": [
    "driver = ogr.GetDriverByName(\"ESRI Shapefile\")\n",
    "shp_test = driver.Open(path_shp, 1)\n",
    "# tif_test = gdal.Open(path_tif)"
   ]
  },
  {
   "cell_type": "code",
   "execution_count": 4,
   "metadata": {},
   "outputs": [],
   "source": [
    "layer = shp_test.GetLayer()"
   ]
  },
  {
   "cell_type": "code",
   "execution_count": null,
   "metadata": {},
   "outputs": [],
   "source": [
    "def rename(layer, feature, year, year0):\n",
    "    try:\n",
    "        if feature[str(year - year0) + 'NDVI']:\n",
    "            new_field = ogr.FieldDefn(\"NDVI\" + str(i), ogr.OFTReal)\n",
    "            layer.CreateField(new_field)\n",
    "    except KeyError:\n",
    "        print('skip')"
   ]
  },
  {
   "cell_type": "code",
   "execution_count": null,
   "metadata": {},
   "outputs": [],
   "source": [
    "def pre_interfere(layer, feature, year0):\n",
    "    if year0 - 2 <= start_year - 1:\n",
    "        for year in range(start_year, year0 + 1):\n",
    "            rename(layer, feature, year, year0)\n",
    "    else:\n",
    "        for year in range(year - 2, year0 + 1):\n",
    "            rename(layer, feature, year, year0)\n",
    "\n",
    "\n",
    "def aft_interfere(layer, feature, year0):\n",
    "    if year0 + 5 >= end_year + 1:\n",
    "        for year in range(year0, end_year + 1):\n",
    "            rename(layer, feature, year, year0)\n",
    "    else:\n",
    "        for year in range(year0, year + 6):\n",
    "            rename(layer, feature, year, year0)"
   ]
  },
  {
   "cell_type": "code",
   "execution_count": 26,
   "metadata": {},
   "outputs": [],
   "source": [
    "new_field_fire = ogr.FieldDefn(\"fire\", ogr.OFTReal)\n",
    "new_field_rate = ogr.FieldDefn(\"rate\", ogr.OFTReal)\n",
    "layer.CreateField(new_field_fire)\n",
    "layer.CreateField(new_field_rate)\n",
    "for feature in layer:\n",
    "    rate = feature['zonalsum'] * 69 / feature['count']\n",
    "    if rate > 0.5:\n",
    "        feature.SetField(\"fire\", 1)\n",
    "    else:\n",
    "        feature.SetField(\"fire\", 0)\n",
    "    feature.SetField(\"rate\", rate)\n",
    "    layer.SetFeature(feature)"
   ]
  }
 ],
 "metadata": {
  "kernelspec": {
   "display_name": "Python 3",
   "language": "python",
   "name": "python3"
  },
  "language_info": {
   "codemirror_mode": {
    "name": "ipython",
    "version": 3
   },
   "file_extension": ".py",
   "mimetype": "text/x-python",
   "name": "python",
   "nbconvert_exporter": "python",
   "pygments_lexer": "ipython3",
   "version": "3.7.6"
  },
  "varInspector": {
   "cols": {
    "lenName": 16,
    "lenType": 16,
    "lenVar": 40
   },
   "kernels_config": {
    "python": {
     "delete_cmd_postfix": "",
     "delete_cmd_prefix": "del ",
     "library": "var_list.py",
     "varRefreshCmd": "print(var_dic_list())"
    },
    "r": {
     "delete_cmd_postfix": ") ",
     "delete_cmd_prefix": "rm(",
     "library": "var_list.r",
     "varRefreshCmd": "cat(var_dic_list()) "
    }
   },
   "types_to_exclude": [
    "module",
    "function",
    "builtin_function_or_method",
    "instance",
    "_Feature"
   ],
   "window_display": false
  }
 },
 "nbformat": 4,
 "nbformat_minor": 4
}
