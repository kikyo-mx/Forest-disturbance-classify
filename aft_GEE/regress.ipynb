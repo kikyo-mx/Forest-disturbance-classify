{
 "cells": [
  {
   "cell_type": "code",
   "execution_count": 1,
   "metadata": {},
   "outputs": [],
   "source": [
    "from osgeo import gdal, ogr\n",
    "import numpy as np"
   ]
  },
  {
   "cell_type": "code",
   "execution_count": 2,
   "metadata": {},
   "outputs": [],
   "source": [
    "path = 'D:\\\\yyx\\\\GEE\\\\data\\\\NE_shp\\\\'\n",
    "start_year = 1988\n",
    "end_year = 2019\n",
    "driver = ogr.GetDriverByName(\"ESRI Shapefile\")"
   ]
  },
  {
   "cell_type": "code",
   "execution_count": null,
   "metadata": {},
   "outputs": [],
   "source": [
    "def pre_rename(shp, year):\n",
    "    if year - 2 <= start_year - 1:\n",
    "        for year in range(start_year, year + 1):\n",
    "            shp = rename(select_ls(year), shp, year)\n",
    "    else:\n",
    "        for year in range(year - 2, year + 1):\n",
    "            shp = rename(select_ls(year), shp, year)\n",
    "    return shp\n",
    "\n",
    "\n",
    "def aft_rename(shp, year):\n",
    "    if year + 5 >= end_year + 1:\n",
    "        for year in range(year, end_year + 1):\n",
    "            shp = rename(select_ls(year), shp, year)\n",
    "    else:\n",
    "        for year in range(year, year + 6):\n",
    "            shp = rename(select_ls(year), shp, year)\n",
    "    return shp"
   ]
  }
 ],
 "metadata": {
  "kernelspec": {
   "display_name": "Python 3",
   "language": "python",
   "name": "python3"
  },
  "language_info": {
   "codemirror_mode": {
    "name": "ipython",
    "version": 3
   },
   "file_extension": ".py",
   "mimetype": "text/x-python",
   "name": "python",
   "nbconvert_exporter": "python",
   "pygments_lexer": "ipython3",
   "version": "3.7.6"
  }
 },
 "nbformat": 4,
 "nbformat_minor": 4
}
