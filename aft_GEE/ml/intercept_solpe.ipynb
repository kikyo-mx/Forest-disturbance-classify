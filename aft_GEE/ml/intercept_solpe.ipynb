{
 "cells": [
  {
   "cell_type": "code",
   "execution_count": 1,
   "metadata": {
    "ExecuteTime": {
     "end_time": "2020-08-06T08:46:02.145152Z",
     "start_time": "2020-08-06T08:46:01.230176Z"
    }
   },
   "outputs": [],
   "source": [
    "from osgeo import gdal, ogr\n",
    "import numpy as np\n",
    "from scipy import stats\n",
    "import matplotlib.pyplot as plt\n",
    "import pandas as pd\n",
    "import numpy as np"
   ]
  },
  {
   "cell_type": "code",
   "execution_count": 2,
   "metadata": {
    "ExecuteTime": {
     "end_time": "2020-08-06T08:46:02.272343Z",
     "start_time": "2020-08-06T08:46:02.147150Z"
    }
   },
   "outputs": [],
   "source": [
    "path = 'data_new.csv'\n",
    "data = pd.read_csv(path)\n",
    "# data = data.dropna(axis = 0)\n",
    "# data.to_csv('data_two_no_none.csv')"
   ]
  },
  {
   "cell_type": "code",
   "execution_count": 3,
   "metadata": {
    "ExecuteTime": {
     "end_time": "2020-08-06T08:46:02.288006Z",
     "start_time": "2020-08-06T08:46:02.274342Z"
    },
    "scrolled": true
   },
   "outputs": [],
   "source": [
    "def add_index(name):\n",
    "    index_list = []\n",
    "    for i in range(1, 6):\n",
    "        index_list.append('PT_' + name + '_' + str(i))\n",
    "    return index_list"
   ]
  },
  {
   "cell_type": "code",
   "execution_count": 4,
   "metadata": {
    "ExecuteTime": {
     "end_time": "2020-08-06T08:46:02.303127Z",
     "start_time": "2020-08-06T08:46:02.289008Z"
    }
   },
   "outputs": [],
   "source": [
    "def get_slope(index):\n",
    "    feature_list = [index + '_slope', index + '_intercept', index + '_rvalue', index + '_pvalue']\n",
    "    dataframe = pd.DataFrame(columns=feature_list)\n",
    "    index_list = add_index(index)\n",
    "    x = [1, 2, 3, 4, 5]\n",
    "    y_index = data[index_list].values\n",
    "    for row in y_index:\n",
    "        regress = stats.linregress(x, row)\n",
    "        regress = [regress.slope, regress.intercept, regress.rvalue, regress.pvalue]\n",
    "        data_regress = pd.Series(dict(zip(feature_list,regress)))\n",
    "        dataframe = dataframe.append(data_regress, ignore_index=True)\n",
    "    return dataframe"
   ]
  },
  {
   "cell_type": "code",
   "execution_count": 5,
   "metadata": {
    "ExecuteTime": {
     "end_time": "2020-08-06T08:51:17.057645Z",
     "start_time": "2020-08-06T08:46:02.305126Z"
    },
    "scrolled": true
   },
   "outputs": [
    {
     "name": "stdout",
     "output_type": "stream",
     "text": [
      "finishNDVI\n",
      "finishNDMI\n",
      "finishNBR\n"
     ]
    }
   ],
   "source": [
    "ndvi = get_slope('NDVI')\n",
    "ndmi = get_slope('NDMI')\n",
    "nbr = get_slope('NBR')"
   ]
  },
  {
   "cell_type": "code",
   "execution_count": 6,
   "metadata": {
    "ExecuteTime": {
     "end_time": "2020-08-06T08:51:17.089145Z",
     "start_time": "2020-08-06T08:51:17.059638Z"
    }
   },
   "outputs": [],
   "source": [
    "data = data.join(ndvi)\n",
    "data = data.join(ndmi)\n",
    "data = data.join(nbr)"
   ]
  },
  {
   "cell_type": "code",
   "execution_count": 7,
   "metadata": {
    "ExecuteTime": {
     "end_time": "2020-08-06T08:51:19.049867Z",
     "start_time": "2020-08-06T08:51:17.090145Z"
    }
   },
   "outputs": [],
   "source": [
    "data.to_csv('data_new_regress.csv')"
   ]
  },
  {
   "cell_type": "code",
   "execution_count": 8,
   "metadata": {
    "ExecuteTime": {
     "end_time": "2020-08-06T08:51:19.065623Z",
     "start_time": "2020-08-06T08:51:19.051864Z"
    },
    "scrolled": true
   },
   "outputs": [],
   "source": [
    "# %%time\n",
    "# x = np.arange(1, 6)\n",
    "# for i in range(126, 137):\n",
    "#     for j in range(54, 37, -1):\n",
    "#         for year in range(start_year, end_year + 1):\n",
    "#             input_path = path + str(year) + '_' + str(i) + '_' + str(j) + '.shp'\n",
    "#             shp = driver.Open(input_path, 1)\n",
    "#             if shp_test is not None:\n",
    "#                 print(i, j, year)\n",
    "#                 layer = shp.GetLayer()\n",
    "#                 new_field_slope = ogr.FieldDefn(\"slope\", ogr.OFTReal)\n",
    "#                 new_field_intercept = ogr.FieldDefn(\"intercept\", ogr.OFTReal)\n",
    "#                 layer.CreateField(new_field_slope)\n",
    "#                 layer.CreateField(new_field_intercept)\n",
    "#                 for feature in layer:\n",
    "#                     y = get_y(feature, year)\n",
    "#                     linr = np.polyfit(x, y, 1)\n",
    "#                     feature.SetField(\"slope\", linr[0])\n",
    "#                     feature.SetField(\"intercept\", linr[1])\n",
    "#                     layer.SetFeature(feature)\n",
    "#                 shp_test.Release()"
   ]
  },
  {
   "cell_type": "code",
   "execution_count": null,
   "metadata": {},
   "outputs": [],
   "source": []
  }
 ],
 "metadata": {
  "kernelspec": {
   "display_name": "Python 3",
   "language": "python",
   "name": "python3"
  },
  "language_info": {
   "codemirror_mode": {
    "name": "ipython",
    "version": 3
   },
   "file_extension": ".py",
   "mimetype": "text/x-python",
   "name": "python",
   "nbconvert_exporter": "python",
   "pygments_lexer": "ipython3",
   "version": "3.8.3"
  },
  "varInspector": {
   "cols": {
    "lenName": 16,
    "lenType": 16,
    "lenVar": 40
   },
   "kernels_config": {
    "python": {
     "delete_cmd_postfix": "",
     "delete_cmd_prefix": "del ",
     "library": "var_list.py",
     "varRefreshCmd": "print(var_dic_list())"
    },
    "r": {
     "delete_cmd_postfix": ") ",
     "delete_cmd_prefix": "rm(",
     "library": "var_list.r",
     "varRefreshCmd": "cat(var_dic_list()) "
    }
   },
   "types_to_exclude": [
    "module",
    "function",
    "builtin_function_or_method",
    "instance",
    "_Feature"
   ],
   "window_display": false
  }
 },
 "nbformat": 4,
 "nbformat_minor": 4
}
