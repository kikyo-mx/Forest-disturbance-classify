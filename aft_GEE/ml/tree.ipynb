{
 "cells": [
  {
   "cell_type": "code",
   "execution_count": 1,
   "metadata": {
    "ExecuteTime": {
     "end_time": "2020-08-31T02:53:09.785909Z",
     "start_time": "2020-08-31T02:53:08.795557Z"
    },
    "scrolled": true
   },
   "outputs": [],
   "source": [
    "import pandas as pd\n",
    "import numpy as np\n",
    "from sklearn.model_selection import train_test_split\n",
    "from sklearn.ensemble import  RandomForestClassifier\n",
    "from sklearn.ensemble import AdaBoostClassifier\n",
    "from sklearn.model_selection import cross_val_score\n",
    "from sklearn.metrics import confusion_matrix\n",
    "from sklearn.metrics import accuracy_score\n",
    "from sklearn.tree import DecisionTreeClassifier\n",
    "import pandas as pd\n",
    "import numpy as np\n",
    "import matplotlib.pyplot as plt\n",
    "import joblib\n",
    "from sklearn.ensemble.partial_dependence import partial_dependence, plot_partial_dependence\n",
    "\n",
    "# data1 = pd.read_csv('train.csv',header=0)\n",
    "def plot_feature_importance(clf, feature_names):\n",
    "    feature_importance = clf.feature_importances_\n",
    "    # make importances relative to max importance\n",
    "    feature_importance = 100.0 * (feature_importance / feature_importance.max())\n",
    "    sorted_idx = np.argsort(feature_importance)[-10:]\n",
    "    pos = np.arange(sorted_idx.shape[0]) + 4.5\n",
    "    plt.subplot(1, 2, 2)\n",
    "    plt.barh(pos, feature_importance[sorted_idx],height=0.3,align='center')\n",
    "    # plt.yticks(pos, feature_names[sorted_idx])\n",
    "    plt.yticks(pos, [feature_names[idx] for idx in sorted_idx])\n",
    "    plt.xlabel('Relative Importance')\n",
    "    plt.title('Variable Importance')\n",
    "    plt.show()\n",
    "\n",
    "    \n",
    "def get_result(conf):\n",
    "    print(conf)\n",
    "    recall = conf[0][0] / conf[0].sum() * 100\n",
    "    precision = conf[0][0] / conf[:, 0].sum() * 100\n",
    "    accuracy = (conf[0][0] + conf[1][1] + conf[2][2]) / conf.sum() * 100\n",
    "    F1 = 2 * recall * precision / (recall + precision)\n",
    "    print('recall : %.4f %%' % recall)\n",
    "    print('precision : %.4f %%' % precision)\n",
    "    print('accuracy : %.4f %%' % accuracy)\n",
    "    print('F1 : %.4f' % F1)\n",
    "    print([recall, precision, accuracy, F1])\n",
    "    return [recall, precision, accuracy, F1]"
   ]
  },
  {
   "cell_type": "code",
   "execution_count": 2,
   "metadata": {
    "ExecuteTime": {
     "end_time": "2020-08-31T02:53:09.801867Z",
     "start_time": "2020-08-31T02:53:09.787905Z"
    }
   },
   "outputs": [],
   "source": [
    "class tree:\n",
    "    def __init__(self, feature_list):\n",
    "        self.feature_list = feature_list\n",
    "        self.data_train = pd.read_csv('train_ne_three.csv')\n",
    "        self.data_test = pd.read_csv('test_ne_three.csv')\n",
    "#         self.data_val = pd.read_csv('val.csv')\n",
    "    def decision_result(self):\n",
    "        print('decision_tree')\n",
    "        return DecisionTreeClassifier(max_depth =10,min_samples_split=40,min_samples_leaf=10)\n",
    "    def random_result(self):\n",
    "        print('random_forest')\n",
    "        return RandomForestClassifier(n_estimators=300,max_depth =10,min_samples_split=40,min_samples_leaf=10)\n",
    "    def adaboost_result(self):\n",
    "        print('adaboost')\n",
    "        return AdaBoostClassifier(DecisionTreeClassifier(max_depth=10, min_samples_split=40, min_samples_leaf=10),\n",
    "                         algorithm=\"SAMME\",\n",
    "                         n_estimators=300, learning_rate=0.8)\n",
    "    def process(self, model):\n",
    "        result_ABC = []\n",
    "        for feature in self.feature_list:\n",
    "#             rfc = joblib.load(\"canada.model\")\n",
    "            train_data = self.data_train[feature].values\n",
    "            train_label = self.data_train['label'].values - 1\n",
    "#             data1 = self.data_test.loc[self.data_test['label'] == 1]\n",
    "#             data2 = self.data_test.loc[self.data_test['label'] == 2]\n",
    "#             data = pd.concat([data1,data2])\n",
    "            test_data = self.data_test[feature].values\n",
    "            test_label = self.data_test['label'].values - 1\n",
    "#             val_data = self.data_val[feature].values\n",
    "#             val_label = self.data_val['label'].values - 1\n",
    "            rfc = model.fit(train_data,train_label)\n",
    "            joblib.dump(rfc, \"ne_shpindex.model\")\n",
    "#             my_plots = plot_partial_dependence(rfc, \n",
    "#                                    features=[0], \n",
    "#                                    X=train_data, \n",
    "#                                    feature_names=list_test)\n",
    "            prediction = rfc.predict(test_data)\n",
    "            conf = confusion_matrix(test_label, prediction)\n",
    "            result = get_result(conf)\n",
    "            result_ABC.append(result)\n",
    "            plot_feature_importance(clf=rfc, feature_names=feature)\n",
    "#             val = rfc.predict(val_data)\n",
    "#             conf_val = confusion_matrix(val, val_label)\n",
    "#             result_val = get_result(conf_val)\n",
    "        return result_ABC"
   ]
  },
  {
   "cell_type": "code",
   "execution_count": 3,
   "metadata": {
    "ExecuteTime": {
     "end_time": "2020-08-31T02:53:09.817824Z",
     "start_time": "2020-08-31T02:53:09.803862Z"
    }
   },
   "outputs": [],
   "source": [
    "list_01 = ['PT_NDMI_0','PT_NDMI_1','PT_NDMI_2','PT_NDMI_3','PT_NDMI_4','PT_NDMI_5','PR_NDMI_1','PR_NDMI_2','PT_NBR_0',                \n",
    "            'PT_NBR_1','PT_NBR_2','PT_NBR_3','PT_NBR_4','PT_NBR_5','PR_NBR_1','PR_NBR_2','PT_NDVI_0','PT_NDVI_1',                \n",
    "            'PT_NDVI_2','PT_NDVI_3','PT_NDVI_4','PT_NDVI_5','PR_NDVI_1','PR_NDVI_2','TXU_ENT','TXU_asm','area','LT_mag',                \n",
    "            'LT_dur','TXU_HOM','TXU_CON']\n",
    "\n",
    "list_02 = ['PT_NDMI_0','PR_NDMI_1','PR_NDMI_2','PT_NBR_0','PR_NBR_1','PR_NBR_2','PT_NDVI_0','PR_NDVI_1','PR_NDVI_2','TXU_ENT',                \n",
    "            'TXU_asm','area','LT_mag', 'LT_dsnr','LT_dur','TXU_HOM','TXU_CON','ndvi_rvalue','ndmi_rvalue','nbr_rvalue',                \n",
    "            'ndvi_slope','ndmi_slope','nbr_slope']\n",
    "\n",
    "list_05 = ['PT_NDMI_0','PT_NDMI_1','PT_NDMI_2','PT_NDMI_3','PT_NDMI_4','PT_NDMI_5','PT_NBR_0',                \n",
    "           'PT_NBR_1','PT_NBR_2','PT_NBR_3','PT_NBR_4','PT_NBR_5','PT_NDVI_0','PT_NDVI_1',                \n",
    "           'PT_NDVI_2','PT_NDVI_3','PT_NDVI_4','PT_NDVI_5', 'D/A', 'Shape Index', 'Perimeter'\n",
    "            ,'Area','LT_mag','NDVI_rvalue','NDMI_rvalue','NBR_rvalue','NDVI_slope','NDMI_slope','NBR_slope']\n",
    "\n",
    "list_06 = ['PT_NDMI_0','PT_NDMI_1','PT_NDMI_2','PT_NDMI_3','PT_NDMI_4','PT_NDMI_5','PT_NBR_0',\\\n",
    "            'PT_NBR_1','PT_NBR_2','PT_NBR_3','PT_NBR_4','PT_NBR_5','PT_NDVI_0','PT_NDVI_1',\\\n",
    "            'PT_NDVI_2','PT_NDVI_3','PT_NDVI_4','PT_NDVI_5','area','LT_mag','TXU_asm','TXU_HOM',\\\n",
    "            'TXU_ENT','TXU_CON','Area','Perimeter','D/A','Perimeter',\\\n",
    "           'Shape Index','ndmi_rvalue','ndvi_rvalue','nbr_rvalue',\\\n",
    "           'ndvi_slope','ndmi_slope','nbr_slope']\n",
    "\n",
    "list_test = ['PT_NDMI_0','PT_NDMI_2','PT_NDMI_3','PT_NDMI_4','PT_NDMI_5','PT_NDVI_5'      \n",
    "            ,'area','LT_mag','NDMI_rvalue','NBR_rvalue']\n",
    "\n",
    "# feature_list = [list_00, list_01, list_02]\n",
    "feature_list = [list_05]"
   ]
  },
  {
   "cell_type": "code",
   "execution_count": 4,
   "metadata": {
    "ExecuteTime": {
     "end_time": "2020-08-31T02:53:09.956454Z",
     "start_time": "2020-08-31T02:53:09.819820Z"
    }
   },
   "outputs": [
    {
     "name": "stdout",
     "output_type": "stream",
     "text": [
      "adaboost\n"
     ]
    },
    {
     "ename": "KeyError",
     "evalue": "\"['area'] not in index\"",
     "output_type": "error",
     "traceback": [
      "\u001b[1;31m---------------------------------------------------------------------------\u001b[0m",
      "\u001b[1;31mKeyError\u001b[0m                                  Traceback (most recent call last)",
      "\u001b[1;32m<ipython-input-4-3fdd78c38a05>\u001b[0m in \u001b[0;36m<module>\u001b[1;34m\u001b[0m\n\u001b[0;32m      1\u001b[0m \u001b[0mtree\u001b[0m \u001b[1;33m=\u001b[0m \u001b[0mtree\u001b[0m\u001b[1;33m(\u001b[0m\u001b[0mfeature_list\u001b[0m\u001b[1;33m)\u001b[0m\u001b[1;33m\u001b[0m\u001b[1;33m\u001b[0m\u001b[0m\n\u001b[1;32m----> 2\u001b[1;33m \u001b[0mboost\u001b[0m \u001b[1;33m=\u001b[0m \u001b[0mtree\u001b[0m\u001b[1;33m.\u001b[0m\u001b[0mprocess\u001b[0m\u001b[1;33m(\u001b[0m\u001b[0mtree\u001b[0m\u001b[1;33m.\u001b[0m\u001b[0madaboost_result\u001b[0m\u001b[1;33m(\u001b[0m\u001b[1;33m)\u001b[0m\u001b[1;33m)\u001b[0m\u001b[1;33m\u001b[0m\u001b[1;33m\u001b[0m\u001b[0m\n\u001b[0m",
      "\u001b[1;32m<ipython-input-2-96a5bed1d344>\u001b[0m in \u001b[0;36mprocess\u001b[1;34m(self, model)\u001b[0m\n\u001b[0;32m     20\u001b[0m         \u001b[1;32mfor\u001b[0m \u001b[0mfeature\u001b[0m \u001b[1;32min\u001b[0m \u001b[0mself\u001b[0m\u001b[1;33m.\u001b[0m\u001b[0mfeature_list\u001b[0m\u001b[1;33m:\u001b[0m\u001b[1;33m\u001b[0m\u001b[1;33m\u001b[0m\u001b[0m\n\u001b[0;32m     21\u001b[0m \u001b[1;31m#             rfc = joblib.load(\"canada.model\")\u001b[0m\u001b[1;33m\u001b[0m\u001b[1;33m\u001b[0m\u001b[1;33m\u001b[0m\u001b[0m\n\u001b[1;32m---> 22\u001b[1;33m             \u001b[0mtrain_data\u001b[0m \u001b[1;33m=\u001b[0m \u001b[0mself\u001b[0m\u001b[1;33m.\u001b[0m\u001b[0mdata_train\u001b[0m\u001b[1;33m[\u001b[0m\u001b[0mfeature\u001b[0m\u001b[1;33m]\u001b[0m\u001b[1;33m.\u001b[0m\u001b[0mvalues\u001b[0m\u001b[1;33m\u001b[0m\u001b[1;33m\u001b[0m\u001b[0m\n\u001b[0m\u001b[0;32m     23\u001b[0m             \u001b[0mtrain_label\u001b[0m \u001b[1;33m=\u001b[0m \u001b[0mself\u001b[0m\u001b[1;33m.\u001b[0m\u001b[0mdata_train\u001b[0m\u001b[1;33m[\u001b[0m\u001b[1;34m'label'\u001b[0m\u001b[1;33m]\u001b[0m\u001b[1;33m.\u001b[0m\u001b[0mvalues\u001b[0m \u001b[1;33m-\u001b[0m \u001b[1;36m1\u001b[0m\u001b[1;33m\u001b[0m\u001b[1;33m\u001b[0m\u001b[0m\n\u001b[0;32m     24\u001b[0m \u001b[1;31m#             data1 = self.data_test.loc[self.data_test['label'] == 1]\u001b[0m\u001b[1;33m\u001b[0m\u001b[1;33m\u001b[0m\u001b[1;33m\u001b[0m\u001b[0m\n",
      "\u001b[1;32mC:\\ProgramData\\Anaconda3\\lib\\site-packages\\pandas\\core\\frame.py\u001b[0m in \u001b[0;36m__getitem__\u001b[1;34m(self, key)\u001b[0m\n\u001b[0;32m   2804\u001b[0m             \u001b[1;32mif\u001b[0m \u001b[0mis_iterator\u001b[0m\u001b[1;33m(\u001b[0m\u001b[0mkey\u001b[0m\u001b[1;33m)\u001b[0m\u001b[1;33m:\u001b[0m\u001b[1;33m\u001b[0m\u001b[1;33m\u001b[0m\u001b[0m\n\u001b[0;32m   2805\u001b[0m                 \u001b[0mkey\u001b[0m \u001b[1;33m=\u001b[0m \u001b[0mlist\u001b[0m\u001b[1;33m(\u001b[0m\u001b[0mkey\u001b[0m\u001b[1;33m)\u001b[0m\u001b[1;33m\u001b[0m\u001b[1;33m\u001b[0m\u001b[0m\n\u001b[1;32m-> 2806\u001b[1;33m             \u001b[0mindexer\u001b[0m \u001b[1;33m=\u001b[0m \u001b[0mself\u001b[0m\u001b[1;33m.\u001b[0m\u001b[0mloc\u001b[0m\u001b[1;33m.\u001b[0m\u001b[0m_get_listlike_indexer\u001b[0m\u001b[1;33m(\u001b[0m\u001b[0mkey\u001b[0m\u001b[1;33m,\u001b[0m \u001b[0maxis\u001b[0m\u001b[1;33m=\u001b[0m\u001b[1;36m1\u001b[0m\u001b[1;33m,\u001b[0m \u001b[0mraise_missing\u001b[0m\u001b[1;33m=\u001b[0m\u001b[1;32mTrue\u001b[0m\u001b[1;33m)\u001b[0m\u001b[1;33m[\u001b[0m\u001b[1;36m1\u001b[0m\u001b[1;33m]\u001b[0m\u001b[1;33m\u001b[0m\u001b[1;33m\u001b[0m\u001b[0m\n\u001b[0m\u001b[0;32m   2807\u001b[0m \u001b[1;33m\u001b[0m\u001b[0m\n\u001b[0;32m   2808\u001b[0m         \u001b[1;31m# take() does not accept boolean indexers\u001b[0m\u001b[1;33m\u001b[0m\u001b[1;33m\u001b[0m\u001b[1;33m\u001b[0m\u001b[0m\n",
      "\u001b[1;32mC:\\ProgramData\\Anaconda3\\lib\\site-packages\\pandas\\core\\indexing.py\u001b[0m in \u001b[0;36m_get_listlike_indexer\u001b[1;34m(self, key, axis, raise_missing)\u001b[0m\n\u001b[0;32m   1551\u001b[0m \u001b[1;33m\u001b[0m\u001b[0m\n\u001b[0;32m   1552\u001b[0m         self._validate_read_indexer(\n\u001b[1;32m-> 1553\u001b[1;33m             \u001b[0mkeyarr\u001b[0m\u001b[1;33m,\u001b[0m \u001b[0mindexer\u001b[0m\u001b[1;33m,\u001b[0m \u001b[0mo\u001b[0m\u001b[1;33m.\u001b[0m\u001b[0m_get_axis_number\u001b[0m\u001b[1;33m(\u001b[0m\u001b[0maxis\u001b[0m\u001b[1;33m)\u001b[0m\u001b[1;33m,\u001b[0m \u001b[0mraise_missing\u001b[0m\u001b[1;33m=\u001b[0m\u001b[0mraise_missing\u001b[0m\u001b[1;33m\u001b[0m\u001b[1;33m\u001b[0m\u001b[0m\n\u001b[0m\u001b[0;32m   1554\u001b[0m         )\n\u001b[0;32m   1555\u001b[0m         \u001b[1;32mreturn\u001b[0m \u001b[0mkeyarr\u001b[0m\u001b[1;33m,\u001b[0m \u001b[0mindexer\u001b[0m\u001b[1;33m\u001b[0m\u001b[1;33m\u001b[0m\u001b[0m\n",
      "\u001b[1;32mC:\\ProgramData\\Anaconda3\\lib\\site-packages\\pandas\\core\\indexing.py\u001b[0m in \u001b[0;36m_validate_read_indexer\u001b[1;34m(self, key, indexer, axis, raise_missing)\u001b[0m\n\u001b[0;32m   1644\u001b[0m             \u001b[1;32mif\u001b[0m \u001b[1;32mnot\u001b[0m \u001b[1;33m(\u001b[0m\u001b[0mself\u001b[0m\u001b[1;33m.\u001b[0m\u001b[0mname\u001b[0m \u001b[1;33m==\u001b[0m \u001b[1;34m\"loc\"\u001b[0m \u001b[1;32mand\u001b[0m \u001b[1;32mnot\u001b[0m \u001b[0mraise_missing\u001b[0m\u001b[1;33m)\u001b[0m\u001b[1;33m:\u001b[0m\u001b[1;33m\u001b[0m\u001b[1;33m\u001b[0m\u001b[0m\n\u001b[0;32m   1645\u001b[0m                 \u001b[0mnot_found\u001b[0m \u001b[1;33m=\u001b[0m \u001b[0mlist\u001b[0m\u001b[1;33m(\u001b[0m\u001b[0mset\u001b[0m\u001b[1;33m(\u001b[0m\u001b[0mkey\u001b[0m\u001b[1;33m)\u001b[0m \u001b[1;33m-\u001b[0m \u001b[0mset\u001b[0m\u001b[1;33m(\u001b[0m\u001b[0max\u001b[0m\u001b[1;33m)\u001b[0m\u001b[1;33m)\u001b[0m\u001b[1;33m\u001b[0m\u001b[1;33m\u001b[0m\u001b[0m\n\u001b[1;32m-> 1646\u001b[1;33m                 \u001b[1;32mraise\u001b[0m \u001b[0mKeyError\u001b[0m\u001b[1;33m(\u001b[0m\u001b[1;34mf\"{not_found} not in index\"\u001b[0m\u001b[1;33m)\u001b[0m\u001b[1;33m\u001b[0m\u001b[1;33m\u001b[0m\u001b[0m\n\u001b[0m\u001b[0;32m   1647\u001b[0m \u001b[1;33m\u001b[0m\u001b[0m\n\u001b[0;32m   1648\u001b[0m             \u001b[1;31m# we skip the warning on Categorical/Interval\u001b[0m\u001b[1;33m\u001b[0m\u001b[1;33m\u001b[0m\u001b[1;33m\u001b[0m\u001b[0m\n",
      "\u001b[1;31mKeyError\u001b[0m: \"['area'] not in index\""
     ]
    }
   ],
   "source": [
    "tree = tree(feature_list)\n",
    "boost = tree.process(tree.adaboost_result())"
   ]
  },
  {
   "cell_type": "code",
   "execution_count": null,
   "metadata": {},
   "outputs": [],
   "source": []
  }
 ],
 "metadata": {
  "kernelspec": {
   "display_name": "Python 3",
   "language": "python",
   "name": "python3"
  },
  "language_info": {
   "codemirror_mode": {
    "name": "ipython",
    "version": 3
   },
   "file_extension": ".py",
   "mimetype": "text/x-python",
   "name": "python",
   "nbconvert_exporter": "python",
   "pygments_lexer": "ipython3",
   "version": "3.7.6"
  },
  "varInspector": {
   "cols": {
    "lenName": 16,
    "lenType": 16,
    "lenVar": 40
   },
   "kernels_config": {
    "python": {
     "delete_cmd_postfix": "",
     "delete_cmd_prefix": "del ",
     "library": "var_list.py",
     "varRefreshCmd": "print(var_dic_list())"
    },
    "r": {
     "delete_cmd_postfix": ") ",
     "delete_cmd_prefix": "rm(",
     "library": "var_list.r",
     "varRefreshCmd": "cat(var_dic_list()) "
    }
   },
   "types_to_exclude": [
    "module",
    "function",
    "builtin_function_or_method",
    "instance",
    "_Feature"
   ],
   "window_display": false
  }
 },
 "nbformat": 4,
 "nbformat_minor": 4
}
