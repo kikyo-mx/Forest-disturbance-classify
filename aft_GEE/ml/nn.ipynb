{
 "cells": [
  {
   "cell_type": "code",
   "execution_count": 1,
   "metadata": {
    "ExecuteTime": {
     "end_time": "2020-08-03T02:07:36.154612Z",
     "start_time": "2020-08-03T02:07:34.669052Z"
    }
   },
   "outputs": [],
   "source": [
    "%matplotlib inline\n",
    "import pandas as pd\n",
    "from sklearn.model_selection import train_test_split\n",
    "import matplotlib.pyplot as plt\n",
    "import matplotlib.animation as animation\n",
    "import numpy as np\n",
    "from sklearn import preprocessing\n",
    "import joblib\n",
    "from sklearn.metrics import confusion_matrix\n",
    "import torch\n",
    "import torch.nn as nn\n",
    "import torch.nn.functional as F\n",
    "from torch.utils.data import Dataset\n",
    "from torch.utils.data import DataLoader\n",
    "from torchvision import transforms\n",
    "from osgeo import gdal, gdalconst, ogr\n",
    "from IPython import display"
   ]
  },
  {
   "cell_type": "code",
   "execution_count": 2,
   "metadata": {
    "ExecuteTime": {
     "end_time": "2020-08-03T02:07:36.169915Z",
     "start_time": "2020-08-03T02:07:36.155612Z"
    }
   },
   "outputs": [],
   "source": [
    "class MyDataset(Dataset):\n",
    "    def __init__(self, file_name, feature):\n",
    "        self.file_name = file_name\n",
    "        self.feature = feature\n",
    "#         self.transforms = transforms\n",
    "        data = pd.read_csv(self.file_name)\n",
    "        data = data.dropna(axis = 0)\n",
    "        self.x = data[self.feature].values\n",
    "        self.y = data['label'].values\n",
    "        self.len = len(data)\n",
    "    def __len__(self):\n",
    "        return self.len\n",
    "    def __getitem__(self, idx):\n",
    "        x_input = self.x[idx]\n",
    "        label = self.y[idx] - 1\n",
    "        return x_input, label"
   ]
  },
  {
   "cell_type": "code",
   "execution_count": 3,
   "metadata": {
    "ExecuteTime": {
     "end_time": "2020-08-03T02:07:36.185869Z",
     "start_time": "2020-08-03T02:07:36.171913Z"
    }
   },
   "outputs": [],
   "source": [
    "class Net(nn.Module):\n",
    "    def __init__(self, nfeature):\n",
    "        super(Net, self).__init__()\n",
    "        self.lin1 = nn.Linear(nfeature, 500)\n",
    "        self.lin2 = nn.Linear(500, 1000)\n",
    "        self.lin3 = nn.Linear(1000, 300)\n",
    "        self.lin4 = nn.Linear(300, 2)\n",
    "        self.bn1 = nn.BatchNorm1d(nfeature)\n",
    "        self.bn2 = nn.BatchNorm1d(300)\n",
    "        self.dropout = nn.Dropout(p=0.5)\n",
    "#         self.bn2 = nn.BatchNorm1d(500)\n",
    "#         self.bn3 = nn.BatchNorm1d(300)\n",
    "        \n",
    "    def forward(self, x):\n",
    "        x = self.bn1(x)\n",
    "        x = F.relu(self.lin1(x))\n",
    "        x = self.dropout(x)\n",
    "        x = F.relu(self.lin2(x))\n",
    "        x = self.dropout(x)\n",
    "        x = F.relu(self.lin3(x))\n",
    "        x = self.bn2(x)\n",
    "        x = self.lin4(x)\n",
    "        x = torch.sigmoid(x)\n",
    "        return x"
   ]
  },
  {
   "cell_type": "code",
   "execution_count": 4,
   "metadata": {
    "ExecuteTime": {
     "end_time": "2020-08-03T02:07:36.201563Z",
     "start_time": "2020-08-03T02:07:36.186864Z"
    }
   },
   "outputs": [],
   "source": [
    "def get_loader(feature, val):\n",
    "    val_data = []\n",
    "    train_data = MyDataset('train_ne_all.csv', feature)\n",
    "    test_data = MyDataset('test_ne_all.csv', feature)\n",
    "    if val:\n",
    "        val_data = MyDataset('label1_regress.csv', feature)\n",
    "    train_loader = DataLoader(train_data, batch_size=64, shuffle=True)\n",
    "    test_loader = DataLoader(test_data, batch_size=64, shuffle=False)\n",
    "    val_loader = DataLoader(val_data, batch_size=64, shuffle=False)\n",
    "    return train_loader, test_loader, val_loader"
   ]
  },
  {
   "cell_type": "code",
   "execution_count": 5,
   "metadata": {
    "ExecuteTime": {
     "end_time": "2020-08-03T02:07:36.217192Z",
     "start_time": "2020-08-03T02:07:36.202558Z"
    }
   },
   "outputs": [],
   "source": [
    "def train(train_loader, model, optimizer, loss_func):\n",
    "    model.train()\n",
    "    losses = []\n",
    "    TOTAL_EPOCHS = 50\n",
    "    for epoch in range(TOTAL_EPOCHS):\n",
    "        train_loss = 0.\n",
    "        train_acc = 0.\n",
    "        for i, (x, y) in enumerate(train_loader):\n",
    "            x = x.float().to(device)\n",
    "            y = y.long().to(device)\n",
    "#             print(x.shape)\n",
    "            optimizer.zero_grad()\n",
    "            outputs = model(x)\n",
    "            loss = loss_func(outputs, y)\n",
    "            loss.backward()\n",
    "            optimizer.step()\n",
    "            losses.append(loss.cpu().data.item())\n",
    "        if (epoch + 1) % 10 == 0:\n",
    "            print((\"epochs:{0}/{1}, loss:{2}\".format(epoch, TOTAL_EPOCHS, np.mean(losses))))"
   ]
  },
  {
   "cell_type": "code",
   "execution_count": 6,
   "metadata": {
    "ExecuteTime": {
     "end_time": "2020-08-03T02:07:36.232520Z",
     "start_time": "2020-08-03T02:07:36.218190Z"
    }
   },
   "outputs": [],
   "source": [
    "def test(test_loader, model, optimizer, loss_func):\n",
    "    model.eval()\n",
    "    correct = 0\n",
    "    total = 0\n",
    "    conf = np.zeros((2, 2))\n",
    "    for i,(x, y) in enumerate(test_loader):\n",
    "        x = x.float().to(device)\n",
    "        y = y.long()\n",
    "        outputs = model(x).cpu()\n",
    "    #     print(outputs)\n",
    "        _, predicted = torch.max(outputs.data, 1)\n",
    "    #     print(predicted)\n",
    "    #     print(y)\n",
    "        total += y.size(0)\n",
    "        correct += (predicted == y).sum()\n",
    "        conf = conf + confusion_matrix(predicted, y)\n",
    "    return conf"
   ]
  },
  {
   "cell_type": "code",
   "execution_count": 7,
   "metadata": {
    "ExecuteTime": {
     "end_time": "2020-08-03T02:07:36.247744Z",
     "start_time": "2020-08-03T02:07:36.233539Z"
    },
    "scrolled": true
   },
   "outputs": [],
   "source": [
    "def get_result(conf):\n",
    "    print(conf)\n",
    "    recall = conf[0][0] / conf[:, 0:1].sum() * 100\n",
    "    precision = conf[0][0] / conf[0].sum() * 100\n",
    "    accuracy = (conf[0][0] + conf[1][1]) / conf.sum() * 100\n",
    "    F1 = 2 * recall * precision / (recall + precision)\n",
    "    print('recall : %.4f %%' % recall)\n",
    "    print('precision : %.4f %%' % precision)\n",
    "    print('accuracy : %.4f %%' % accuracy)\n",
    "    print('F1 : %.4f' % F1)\n",
    "    print([recall, precision, accuracy, F1])\n",
    "    return [recall, precision, accuracy, F1]"
   ]
  },
  {
   "cell_type": "code",
   "execution_count": 8,
   "metadata": {
    "ExecuteTime": {
     "end_time": "2020-08-03T02:07:36.293738Z",
     "start_time": "2020-08-03T02:07:36.249744Z"
    }
   },
   "outputs": [],
   "source": [
    "device = torch.device(\"cpu\")\n",
    "if torch.cuda.is_available():\n",
    "        device = torch.device(\"cuda\")"
   ]
  },
  {
   "cell_type": "code",
   "execution_count": 9,
   "metadata": {
    "ExecuteTime": {
     "end_time": "2020-08-03T02:07:36.309196Z",
     "start_time": "2020-08-03T02:07:36.295736Z"
    }
   },
   "outputs": [],
   "source": [
    "class nnn:\n",
    "    def __init__(self, feature_list):\n",
    "        print('nn')\n",
    "        self.feature_list = feature_list\n",
    "        self.val = val\n",
    "    \n",
    "    \n",
    "    def nn_result(self):\n",
    "        result_ABC = []\n",
    "        for feature in self.feature_list:\n",
    "            nfeature = len(feature)\n",
    "            train_loader, test_loader, val_loader = get_loader(feature, self.val)\n",
    "            model = Net(nfeature).to(device)\n",
    "            optimizer = torch.optim.Adam(model.parameters(), lr=1e-3)\n",
    "            loss_func = torch.nn.CrossEntropyLoss()\n",
    "            train(train_loader, model, optimizer, loss_func)\n",
    "            conf = test(test_loader, model, optimizer, loss_func)\n",
    "            if self.val:\n",
    "                conf_val = test(val_loader, model, optimizer, loss_func)\n",
    "            result = get_result(conf)\n",
    "            result_ABC.append(result)\n",
    "#             result_val = get_result(conf_val)\n",
    "        return result_ABC"
   ]
  },
  {
   "cell_type": "code",
   "execution_count": 10,
   "metadata": {
    "ExecuteTime": {
     "end_time": "2020-08-03T02:07:36.324936Z",
     "start_time": "2020-08-03T02:07:36.310195Z"
    }
   },
   "outputs": [],
   "source": [
    "list_00 = ['PT_NDMI_0','PT_NDMI_1','PT_NDMI_2','PT_NDMI_3','PT_NDMI_4','PT_NDMI_5','PR_NDMI_1','PR_NDMI_2','PT_NBR_0',                \n",
    "           'PT_NBR_1','PT_NBR_2','PT_NBR_3','PT_NBR_4','PT_NBR_5','PR_NBR_1','PR_NBR_2','PT_NDVI_0','PT_NDVI_1',                \n",
    "           'PT_NDVI_2','PT_NDVI_3','PT_NDVI_4','PT_NDVI_5','PR_NDVI_1','PR_NDVI_2','TXU_ENT','TXU_asm','area','LT_mag',\n",
    "           'LT_dur','TXU_HOM','TXU_CON','ndvi_rvalue','ndmi_rvalue','nbr_rvalue','ndvi_slope','ndmi_slope','nbr_slope']\n",
    "\n",
    "list_01 = ['PT_NDMI_0','PT_NDMI_1','PT_NDMI_2','PT_NDMI_3','PT_NDMI_4','PT_NDMI_5','PR_NDMI_1','PR_NDMI_2','PT_NBR_0',                \n",
    "            'PT_NBR_1','PT_NBR_2','PT_NBR_3','PT_NBR_4','PT_NBR_5','PR_NBR_1','PR_NBR_2','PT_NDVI_0','PT_NDVI_1',                \n",
    "            'PT_NDVI_2','PT_NDVI_3','PT_NDVI_4','PT_NDVI_5','PR_NDVI_1','PR_NDVI_2','TXU_ENT','TXU_asm','area','LT_mag',                \n",
    "            'LT_dur','TXU_HOM','TXU_CON']\n",
    "\n",
    "list_02 = ['PT_NDMI_0','PR_NDMI_1','PR_NDMI_2','PT_NBR_0','PR_NBR_1','PR_NBR_2','PT_NDVI_0','PR_NDVI_1','PR_NDVI_2','TXU_ENT',                \n",
    "            'TXU_asm','area','LT_mag', 'LT_dsnr','LT_dur','TXU_HOM','TXU_CON','ndvi_rvalue','ndmi_rvalue','nbr_rvalue',                \n",
    "            'ndvi_slope','ndmi_slope','nbr_slope']\n",
    "\n",
    "list_03 = ['PT_NDMI_0','PT_NDMI_1','PT_NDMI_2','PT_NDMI_3','PT_NDMI_4','PT_NDMI_5','PR_NDMI_1','PR_NDMI_2','PT_NBR_0',                \n",
    "           'PT_NBR_1','PT_NBR_2','PT_NBR_3','PT_NBR_4','PT_NBR_5','PR_NBR_1','PR_NBR_2','PT_NDVI_0','PT_NDVI_1',                \n",
    "           'PT_NDVI_2','PT_NDVI_3','PT_NDVI_4','PT_NDVI_5','PR_NDVI_1','PR_NDVI_2','TXU_ENT','TXU_asm','area','LT_mag',\n",
    "           'LT_dur','TXU_HOM','TXU_CON','NDVI_rvalue','NDMI_rvalue','NBR_rvalue','NDVI_slope','NDMI_slope','NBR_slope']\n",
    "\n",
    "list_04 = ['PT_NDMI_0','PT_NDMI_1','PT_NDMI_2','PT_NDMI_3','PT_NDMI_4','PT_NDMI_5','PR_NDMI_1','PR_NDMI_2','PT_NBR_0',                \n",
    "            'PT_NBR_1','PT_NBR_2','PT_NBR_3','PT_NBR_4','PT_NBR_5','PR_NBR_1','PR_NBR_2','PT_NDVI_0','PT_NDVI_1',                \n",
    "            'PT_NDVI_2','PT_NDVI_3','PT_NDVI_4','PT_NDVI_5','PR_NDVI_1','PR_NDVI_2','TXU_ENT','TXU_asm','area','LT_mag']\n",
    "\n",
    "list_05 = ['PT_NDMI_0','PT_NDMI_1','PT_NDMI_2','PT_NDMI_3','PT_NDMI_4','PT_NDMI_5','PT_NBR_0',                \n",
    "           'PT_NBR_1','PT_NBR_2','PT_NBR_3','PT_NBR_4','PT_NBR_5','PT_NDVI_0','PT_NDVI_1',                \n",
    "           'PT_NDVI_2','PT_NDVI_3','PT_NDVI_4','PT_NDVI_5'      \n",
    "            ,'area','LT_mag','NDVI_rvalue','NDMI_rvalue','NBR_rvalue','NDVI_slope','NDMI_slope','NBR_slope']\n",
    "\n",
    "feature_list1 = [list_00, list_01, list_02]\n",
    "feature_list2 = [list_03, list_04, list_05]"
   ]
  },
  {
   "cell_type": "code",
   "execution_count": 11,
   "metadata": {
    "ExecuteTime": {
     "end_time": "2020-08-03T02:08:40.728250Z",
     "start_time": "2020-08-03T02:07:36.325990Z"
    },
    "scrolled": true
   },
   "outputs": [
    {
     "name": "stdout",
     "output_type": "stream",
     "text": [
      "nn\n",
      "epochs:9/50, loss:0.5334405083190366\n",
      "epochs:19/50, loss:0.5176890632222751\n",
      "epochs:29/50, loss:0.5073580297772251\n",
      "epochs:39/50, loss:0.5001015211006409\n",
      "epochs:49/50, loss:0.4941776392181513\n",
      "[[2099.  350.]\n",
      " [ 639. 2312.]]\n",
      "recall : 76.6618 %\n",
      "precision : 85.7085 %\n",
      "accuracy : 81.6852 %\n",
      "F1 : 80.9331\n",
      "[76.6617969320672, 85.70845242956308, 81.68518518518518, 80.93310198573357]\n"
     ]
    }
   ],
   "source": [
    "val = 0\n",
    "nnn = nnn([list_05]).nn_result()"
   ]
  },
  {
   "cell_type": "code",
   "execution_count": 12,
   "metadata": {
    "ExecuteTime": {
     "end_time": "2020-08-03T02:08:40.744207Z",
     "start_time": "2020-08-03T02:08:40.729247Z"
    }
   },
   "outputs": [
    {
     "data": {
      "text/plain": [
       "[[76.6617969320672, 85.70845242956308, 81.68518518518518, 80.93310198573357]]"
      ]
     },
     "execution_count": 12,
     "metadata": {},
     "output_type": "execute_result"
    }
   ],
   "source": [
    "nnn"
   ]
  },
  {
   "cell_type": "code",
   "execution_count": 2,
   "metadata": {},
   "outputs": [
    {
     "name": "stderr",
     "output_type": "stream",
     "text": [
      "C:\\Users\\kikyo\\anaconda3\\lib\\site-packages\\setuptools\\distutils_patch.py:25: UserWarning: Distutils was imported before Setuptools. This usage is discouraged and may exhibit undesirable behaviors or errors. Please use Setuptools' objects directly or at least import Setuptools first.\n",
      "  warnings.warn(\n"
     ]
    },
    {
     "name": "stdout",
     "output_type": "stream",
     "text": [
      "1 thread      14 us   \n",
      "2 threads     14 us   (1.0x)\n",
      "4 threads     13 us   (1.0x)\n",
      "8 threads     13 us   (1.0x)\n"
     ]
    }
   ],
   "source": [
    "from torch.utils.benchmark import Timer\n",
    "\n",
    "results = []\n",
    "for num_threads in [1, 2, 4]:\n",
    "    timer = Timer(\n",
    "        stmt=\"torch.add(x, y, out=out)\",\n",
    "        setup=\"\"\"\n",
    "            n = 1024\n",
    "            device = torch.device(\"cpu\")\n",
    "            if torch.cuda.is_available():\n",
    "                device = torch.device(\"cuda\")\n",
    "            x = torch.ones((n, n)).to(device)\n",
    "            y = torch.ones((n, 1)).to(device)\n",
    "            out = torch.empty((n, n)).to(device)\n",
    "        \"\"\",\n",
    "        num_threads=num_threads,\n",
    "    )\n",
    "    results.append(timer.blocked_autorange(min_run_time=5))\n",
    "    print(\n",
    "        f\"{num_threads} thread{'s' if num_threads > 1 else ' ':<4}\"\n",
    "        f\"{results[-1].median * 1e6:>4.0f} us   \" +\n",
    "        (f\"({results[0].median / results[-1].median:.1f}x)\" if num_threads > 1 else '')\n",
    "    )"
   ]
  },
  {
   "cell_type": "code",
   "execution_count": 1,
   "metadata": {},
   "outputs": [
    {
     "data": {
      "text/plain": [
       "True"
      ]
     },
     "execution_count": 1,
     "metadata": {},
     "output_type": "execute_result"
    }
   ],
   "source": [
    "import torch\n",
    "torch.cuda.is_available()"
   ]
  },
  {
   "cell_type": "code",
   "execution_count": null,
   "metadata": {},
   "outputs": [],
   "source": []
  }
 ],
 "metadata": {
  "kernelspec": {
   "display_name": "Python 3",
   "language": "python",
   "name": "python3"
  },
  "language_info": {
   "codemirror_mode": {
    "name": "ipython",
    "version": 3
   },
   "file_extension": ".py",
   "mimetype": "text/x-python",
   "name": "python",
   "nbconvert_exporter": "python",
   "pygments_lexer": "ipython3",
   "version": "3.8.3"
  },
  "varInspector": {
   "cols": {
    "lenName": 16,
    "lenType": 16,
    "lenVar": 40
   },
   "kernels_config": {
    "python": {
     "delete_cmd_postfix": "",
     "delete_cmd_prefix": "del ",
     "library": "var_list.py",
     "varRefreshCmd": "print(var_dic_list())"
    },
    "r": {
     "delete_cmd_postfix": ") ",
     "delete_cmd_prefix": "rm(",
     "library": "var_list.r",
     "varRefreshCmd": "cat(var_dic_list()) "
    }
   },
   "types_to_exclude": [
    "module",
    "function",
    "builtin_function_or_method",
    "instance",
    "_Feature"
   ],
   "window_display": false
  }
 },
 "nbformat": 4,
 "nbformat_minor": 4
}
