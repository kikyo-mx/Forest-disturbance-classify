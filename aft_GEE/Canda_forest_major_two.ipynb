{
 "cells": [
  {
   "cell_type": "code",
   "execution_count": 1,
   "metadata": {
    "ExecuteTime": {
     "end_time": "2020-09-08T04:07:25.886673Z",
     "start_time": "2020-09-08T04:07:25.058553Z"
    }
   },
   "outputs": [],
   "source": [
    "import csv\n",
    "from rasterstats import zonal_stats\n",
    "from osgeo import gdal_array\n",
    "import numpy as np\n",
    "import os \n",
    "import shapefile\n",
    "import pandas as pd\n",
    "\n",
    "# sf = shapefile.Reader(\"D:\\\\yyx\\\\GEE\\\\data\\\\test\\\\test_data\\\\1990_1.shp\")\n",
    "# fields = sf.fields\n",
    "\n",
    "# shp_name = ['PT_NDMI_0','PT_NDMI_1','PT_NDMI_2','PT_NDMI_3','PT_NDMI_4','PT_NDMI_5','PR_NDMI_1','PR_NDMI_2','PT_NBR_0',\\\n",
    "#             'PT_NBR_1','PT_NBR_2','PT_NBR_3','PT_NBR_4','PT_NBR_5','PR_NBR_1','PR_NBR_2','PT_NDVI_0','PT_NDVI_1',\\\n",
    "#             'PT_NDVI_2','PT_NDVI_3','PT_NDVI_4','PT_NDVI_5','TXU_ENT','TXU_asm','area','LT_mag',\\\n",
    "#             'LT_dsnr','LT_dur','TXU_HOM','TXU_CON','Perimeter','D/A','Perimeter',\\\n",
    "#            'Shape Index','ndmi_rvalue','ndvi_rvalue','nbr_rvalue',\\'ndvi_slope','ndmi_slope','nbr_slope']\n",
    "# # for i in range(len(fields)-1):\n",
    "# #     shp_name.append(fields[i+1][0])\n",
    "# shp_pd = pd.DataFrame(columns = shp_name)\n",
    "# shp_pd"
   ]
  },
  {
   "cell_type": "code",
   "execution_count": 7,
   "metadata": {},
   "outputs": [
    {
     "name": "stdout",
     "output_type": "stream",
     "text": [
      "D:\\Data\\LT\\Canda\\Canda_test\\1990\n",
      "D:\\Data\\LT\\Canda\\Canda_test\\1991\n",
      "D:\\Data\\LT\\Canda\\Canda_test\\1992\n",
      "D:\\Data\\LT\\Canda\\Canda_test\\1993\n",
      "D:\\Data\\LT\\Canda\\Canda_test\\1994\n",
      "D:\\Data\\LT\\Canda\\Canda_test\\1995\n",
      "D:\\Data\\LT\\Canda\\Canda_test\\1996\n",
      "D:\\Data\\LT\\Canda\\Canda_test\\1997\n",
      "D:\\Data\\LT\\Canda\\Canda_test\\1998\n",
      "D:\\Data\\LT\\Canda\\Canda_test\\1999\n",
      "D:\\Data\\LT\\Canda\\Canda_test\\2000\n",
      "D:\\Data\\LT\\Canda\\Canda_test\\2001\n",
      "D:\\Data\\LT\\Canda\\Canda_test\\2002\n",
      "D:\\Data\\LT\\Canda\\Canda_test\\2003\n",
      "D:\\Data\\LT\\Canda\\Canda_test\\2004\n",
      "D:\\Data\\LT\\Canda\\Canda_test\\2005\n",
      "D:\\Data\\LT\\Canda\\Canda_test\\2006\n",
      "D:\\Data\\LT\\Canda\\Canda_test\\2007\n",
      "D:\\Data\\LT\\Canda\\Canda_test\\2008\n",
      "D:\\Data\\LT\\Canda\\Canda_test\\2009\n",
      "D:\\Data\\LT\\Canda\\Canda_test\\2010\n",
      "D:\\Data\\LT\\Canda\\Canda_test\\2011\n",
      "D:\\Data\\LT\\Canda\\Canda_test\\2012\n",
      "D:\\Data\\LT\\Canda\\Canda_test\\2013\n",
      "D:\\Data\\LT\\Canda\\Canda_test\\2014\n",
      "    PT_NDMI_0  PT_NDMI_1  PT_NDMI_2  PT_NDMI_3  PT_NDMI_4  PT_NDMI_5  \\\n",
      "0   -0.341135  -0.093403  -0.385334        NaN  -0.333686  -0.336927   \n",
      "1   -0.332716  -0.090777  -0.381693        NaN  -0.300957  -0.323730   \n",
      "2   -0.379957  -0.079097  -0.381454        NaN  -0.339574  -0.348305   \n",
      "3   -0.376152  -0.070417  -0.378620        NaN  -0.334199  -0.331877   \n",
      "4   -0.293560  -0.065665  -0.395269        NaN  -0.346654  -0.348634   \n",
      "..        ...        ...        ...        ...        ...        ...   \n",
      "95  -0.418709  -0.350714  -0.255929  -0.411920  -0.333997  -0.384246   \n",
      "96  -0.305125  -0.316090  -0.236408  -0.418503  -0.362791  -0.382065   \n",
      "97  -0.351508  -0.266471  -0.150764  -0.351988  -0.291110  -0.304949   \n",
      "98  -0.271784  -0.235200  -0.083104        NaN  -0.284266  -0.289570   \n",
      "99  -0.428169  -0.346168  -0.161681        NaN  -0.373326  -0.368439   \n",
      "\n",
      "    PR_NDMI_1  PR_NDMI_2  PT_NBR_0  PT_NBR_1  ...   TXU_ENT   TXU_asm  \\\n",
      "0   -0.158619  -0.175452  0.068337  0.065014  ...  1.140246  0.098295   \n",
      "1   -0.118659  -0.123595  0.058343  0.061572  ...  1.239346  0.124714   \n",
      "2   -0.082554  -0.167144 -0.005498  0.095381  ...  2.611057  0.048420   \n",
      "3   -0.109226  -0.157843 -0.019701  0.089694  ...  3.165301  0.029059   \n",
      "4   -0.041108  -0.069982  0.056569  0.061713  ...  0.641618  0.091718   \n",
      "..        ...        ...       ...       ...  ...       ...       ...   \n",
      "95  -0.072148  -0.204459 -0.096324 -0.095128  ...  0.730191  0.129904   \n",
      "96  -0.016832  -0.037385  0.043143 -0.090245  ...  2.104518  0.061273   \n",
      "97  -0.176668  -0.160121  0.077220  0.110721  ...  0.858841  0.084876   \n",
      "98  -0.166481  -0.197246  0.191591  0.109349  ...  2.395174  0.055862   \n",
      "99  -0.146961  -0.170672 -0.007508  0.100321  ...  2.869084  0.041139   \n",
      "\n",
      "             area      LT_mag    LT_dsnr    LT_dur   TXU_HOM       TXU_CON  \\\n",
      "0    24124.778269  478.322581   9.903226  1.000000  0.035011  24903.562615   \n",
      "1    20593.153125  566.576923   9.961538  1.000000  0.010760  21808.503005   \n",
      "2   135359.347186  485.808511   7.992908  1.000000  0.017952  27180.855685   \n",
      "3   113579.615647  490.784000   8.816000  1.032000  0.020020  19641.786972   \n",
      "4     9461.627744  754.615385   9.000000  2.000000  0.023304   2485.730278   \n",
      "..            ...         ...        ...       ...       ...           ...   \n",
      "95   12457.147811  444.923077   6.307692  1.000000  0.005924   5108.293300   \n",
      "96  228428.323866  530.467354   7.745704  1.450172  0.020156  18969.398465   \n",
      "97   13042.512816  440.636364  10.545455  1.000000  0.006803  35074.680245   \n",
      "98  231260.992550  434.587302   7.957672  1.481481  0.014265  18568.159998   \n",
      "99  150986.880721  533.131783   8.519380  1.023256  0.011705  35551.540376   \n",
      "\n",
      "    number  label  \n",
      "0      1.0    2.0  \n",
      "1      1.0    2.0  \n",
      "2      1.0    2.0  \n",
      "3      1.0    2.0  \n",
      "4      1.0    2.0  \n",
      "..     ...    ...  \n",
      "95     1.0    2.0  \n",
      "96     1.0    2.0  \n",
      "97     1.0    2.0  \n",
      "98     1.0    2.0  \n",
      "99     1.0    2.0  \n",
      "\n",
      "[100 rows x 34 columns]\n"
     ]
    }
   ],
   "source": [
    "result = []\n",
    "\n",
    "path = \"D:\\\\yyx\\\\GEE\\\\data\\\\test\\\\test_data\\\\all_new.shp\"\n",
    "POLY = os.listdir(path)\n",
    "RASRT = \"D:\\\\yyx\\\\GEE\\\\data\\\\test\\\\test_data\\\\all_new_new.tif\"\n",
    "#             print(RAST)\n",
    "#             print(POLY)\n",
    "# Run zonal_stats\n",
    "stats = zonal_stats(POLY, RAST, stats=['count', 'mean', 'min', 'max','std','sum','majority'], geojson_out=True)"
   ]
  },
  {
   "cell_type": "code",
   "execution_count": null,
   "metadata": {},
   "outputs": [],
   "source": [
    "stats"
   ]
  }
 ],
 "metadata": {
  "kernelspec": {
   "display_name": "Python 3",
   "language": "python",
   "name": "python3"
  },
  "language_info": {
   "codemirror_mode": {
    "name": "ipython",
    "version": 3
   },
   "file_extension": ".py",
   "mimetype": "text/x-python",
   "name": "python",
   "nbconvert_exporter": "python",
   "pygments_lexer": "ipython3",
   "version": "3.7.6"
  },
  "varInspector": {
   "cols": {
    "lenName": 16,
    "lenType": 16,
    "lenVar": 40
   },
   "kernels_config": {
    "python": {
     "delete_cmd_postfix": "",
     "delete_cmd_prefix": "del ",
     "library": "var_list.py",
     "varRefreshCmd": "print(var_dic_list())"
    },
    "r": {
     "delete_cmd_postfix": ") ",
     "delete_cmd_prefix": "rm(",
     "library": "var_list.r",
     "varRefreshCmd": "cat(var_dic_list()) "
    }
   },
   "types_to_exclude": [
    "module",
    "function",
    "builtin_function_or_method",
    "instance",
    "_Feature"
   ],
   "window_display": false
  }
 },
 "nbformat": 4,
 "nbformat_minor": 4
}
