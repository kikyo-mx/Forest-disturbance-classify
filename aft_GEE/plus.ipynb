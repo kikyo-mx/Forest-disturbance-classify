{
 "cells": [
  {
   "cell_type": "code",
   "execution_count": 4,
   "metadata": {
    "ExecuteTime": {
     "end_time": "2020-09-01T06:19:29.774706Z",
     "start_time": "2020-09-01T06:19:29.760433Z"
    }
   },
   "outputs": [],
   "source": [
    "from osgeo import gdal, ogr"
   ]
  },
  {
   "cell_type": "code",
   "execution_count": 5,
   "metadata": {
    "ExecuteTime": {
     "end_time": "2020-09-01T06:19:30.353944Z",
     "start_time": "2020-09-01T06:19:30.339927Z"
    }
   },
   "outputs": [],
   "source": [
    "path = 'D:\\\\yyx\\\\GEE\\\\data\\\\merge\\\\2003_shpindex_merge.shp'\n",
    "driver = ogr.GetDriverByName('ESRI Shapefile')\n",
    "shp = driver.Open(path, 1)\n",
    "layer = shp.GetLayer()"
   ]
  },
  {
   "cell_type": "code",
   "execution_count": 6,
   "metadata": {
    "ExecuteTime": {
     "end_time": "2020-09-01T06:19:47.675417Z",
     "start_time": "2020-09-01T06:19:30.883156Z"
    }
   },
   "outputs": [],
   "source": [
    "for i in range(len(layer)):\n",
    "    feature = layer.GetFeature(i)\n",
    "    type_ne3 = feature['type_ne3'] if feature['type_ne3'] else 0\n",
    "    type_ne_sh = feature['type_ne_sh'] if feature['type_ne_sh'] else 0\n",
    "    type_ne = type_ne3 + type_ne_sh\n",
    "    if feature['type_ne3'] == None and feature['type_ne3'] == None:\n",
    "        type_ne = 3\n",
    "    feature.SetField(\"ne_type\", type_ne)\n",
    "    layer.SetFeature(feature)\n",
    "shp.Destroy()"
   ]
  },
  {
   "cell_type": "code",
   "execution_count": null,
   "metadata": {},
   "outputs": [],
   "source": []
  }
 ],
 "metadata": {
  "kernelspec": {
   "display_name": "Python 3",
   "language": "python",
   "name": "python3"
  },
  "language_info": {
   "codemirror_mode": {
    "name": "ipython",
    "version": 3
   },
   "file_extension": ".py",
   "mimetype": "text/x-python",
   "name": "python",
   "nbconvert_exporter": "python",
   "pygments_lexer": "ipython3",
   "version": "3.7.6"
  },
  "varInspector": {
   "cols": {
    "lenName": 16,
    "lenType": 16,
    "lenVar": 40
   },
   "kernels_config": {
    "python": {
     "delete_cmd_postfix": "",
     "delete_cmd_prefix": "del ",
     "library": "var_list.py",
     "varRefreshCmd": "print(var_dic_list())"
    },
    "r": {
     "delete_cmd_postfix": ") ",
     "delete_cmd_prefix": "rm(",
     "library": "var_list.r",
     "varRefreshCmd": "cat(var_dic_list()) "
    }
   },
   "types_to_exclude": [
    "module",
    "function",
    "builtin_function_or_method",
    "instance",
    "_Feature"
   ],
   "window_display": false
  }
 },
 "nbformat": 4,
 "nbformat_minor": 4
}
