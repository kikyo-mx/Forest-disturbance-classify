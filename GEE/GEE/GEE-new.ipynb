{
 "cells": [
  {
   "cell_type": "code",
   "execution_count": 1,
   "metadata": {
    "ExecuteTime": {
     "end_time": "2021-06-02T01:25:47.160550Z",
     "start_time": "2021-06-02T01:25:41.138660Z"
    },
    "scrolled": true
   },
   "outputs": [],
   "source": [
    "import ee\n",
    "import geemap\n",
    "import os\n",
    "from tqdm import tqdm\n",
    "import numpy as np\n",
    "ee.Initialize()"
   ]
  },
  {
   "cell_type": "code",
   "execution_count": 2,
   "metadata": {
    "ExecuteTime": {
     "end_time": "2021-06-02T01:25:47.176507Z",
     "start_time": "2021-06-02T01:25:47.162545Z"
    },
    "hide_input": false
   },
   "outputs": [],
   "source": [
    "image_collection_fire = ee.ImageCollection(\"ESA/CCI/FireCCI/5_1\")\n",
    "# changeMap_ls7 = ee.Image(\"users/dxj/Changemap_NE\").select('yod')\n",
    "# changeMap_nls7 = ee.Image(\"users/platuo/Changemap_ne_filterLC7_30\").select('yod')\n",
    "changeMap_nls7 = ee.Image(\"users/dxj/Changemap_ne_aft\")\n",
    "changeMap_ls7 = ee.Image(\"users/dxj/Changemap_ne_pre\")\n",
    "protect_area = ee.FeatureCollection(\"users/dxj/protect_area1\")\n",
    "IFZ_mask = ee.Image(\"users/dxj/changeMap_mask\")"
   ]
  },
  {
   "cell_type": "code",
   "execution_count": 3,
   "metadata": {
    "ExecuteTime": {
     "end_time": "2021-06-02T01:25:47.192465Z",
     "start_time": "2021-06-02T01:25:47.178503Z"
    },
    "hide_input": false
   },
   "outputs": [],
   "source": [
    "start_year = 1988\n",
    "end_year = 2019"
   ]
  },
  {
   "cell_type": "code",
   "execution_count": 4,
   "metadata": {
    "ExecuteTime": {
     "end_time": "2021-06-02T01:25:47.208421Z",
     "start_time": "2021-06-02T01:25:47.194459Z"
    }
   },
   "outputs": [],
   "source": [
    "changeMap_ls7_0 = changeMap_ls7.unmask(0)\n",
    "changeMap_nls7_0 = changeMap_nls7.unmask(0)\n",
    "changeMap_mask = changeMap_ls7_0.mask(changeMap_ls7_0.And(changeMap_nls7_0).eq(1)).unmask(0)\n",
    "changeMap_add = changeMap_nls7_0.add(changeMap_ls7_0)\n",
    "changeMap = changeMap_add.subtract(changeMap_mask)\n",
    "changeMap_0 = changeMap.eq(0).Not()\n",
    "changeMap = changeMap.mask(changeMap_0)"
   ]
  },
  {
   "cell_type": "code",
   "execution_count": 5,
   "metadata": {
    "ExecuteTime": {
     "end_time": "2021-06-02T01:25:47.224379Z",
     "start_time": "2021-06-02T01:25:47.210416Z"
    },
    "hide_input": true
   },
   "outputs": [],
   "source": [
    "# image = changeMap.select('mag')\n",
    "# task = ee.batch.Export.image.toDrive(image,\n",
    "# 'changeMap_mag',\n",
    "# scale=30,\n",
    "# maxPixels=1e13,\n",
    "# # region=空间筛选边界shp.geometry()\n",
    "# )\n",
    "# task.start()"
   ]
  },
  {
   "cell_type": "code",
   "execution_count": 6,
   "metadata": {
    "ExecuteTime": {
     "end_time": "2021-06-02T01:25:47.240336Z",
     "start_time": "2021-06-02T01:25:47.226374Z"
    }
   },
   "outputs": [],
   "source": [
    "def fire_process(roi, image_collection, year):\n",
    "    image_col_fire = image_collection.filterBounds(roi).filterDate(str(year) + '-05-1', str(year) + '-12-31').select('BurnDate')\n",
    "    image_fire = image_col_fire.reduce(ee.Reducer.median())\n",
    "    return image_fire"
   ]
  },
  {
   "cell_type": "code",
   "execution_count": 7,
   "metadata": {
    "ExecuteTime": {
     "end_time": "2021-06-02T01:25:47.256293Z",
     "start_time": "2021-06-02T01:25:47.242332Z"
    },
    "hide_input": false
   },
   "outputs": [],
   "source": [
    "# tif to polygon\n",
    "def tif_to_shp(image, year):\n",
    "    if year != end_year and year != start_year:\n",
    "        image = image.eq(year).Or(image.eq(year + 1)).Or(image.eq(year - 1))\n",
    "    elif year != end_year:\n",
    "        image = image.eq(year).Or(image.eq(year + 1))\n",
    "    else:\n",
    "        image = image.eq(year)\n",
    "    image = image.updateMask(image.eq(1)).Or(image.eq(year - 1))\n",
    "    return image.reduceToVectors(**{\n",
    "        'scale': 30,\n",
    "        'geometryType': \"polygon\", \n",
    "        'maxPixels': 1e13,\n",
    "        'eightConnected': False\n",
    "        }).select('count')\n",
    "\n",
    "\n",
    "def mask_last_year(shp_pre, image, year, roi):\n",
    "    image_mask = shp_pre.reduceToImage(['yod'], 'mean').Not().unmask(1).clip(roi)\n",
    "#     Map.addLayer(image_mask, {}, 'image_' + str(year))\n",
    "    return image.mask(image_mask)\n",
    "\n",
    "\n",
    "def reduce_mask(shp, img_MASK):\n",
    "    shp = feature_extract(shp, img_MASK, ['mask'])\n",
    "    shp = sievel(shp, 'mask', 0.3, 'greater_than')\n",
    "    return shp.select('count')\n",
    "\n",
    "\n",
    "def ruduce_year(shp, img_CM, year):\n",
    "    shp = feature_extract(shp, img_CM, ['yod'])\n",
    "    shp = sievel(shp, 'yod', year + 0.7, 'less_than')\n",
    "    return shp"
   ]
  },
  {
   "cell_type": "code",
   "execution_count": 8,
   "metadata": {
    "ExecuteTime": {
     "end_time": "2021-06-02T01:25:47.272250Z",
     "start_time": "2021-06-02T01:25:47.259287Z"
    },
    "hide_input": false
   },
   "outputs": [],
   "source": [
    "# sievel\n",
    "def sievel(shp, field, filter_count, filter_type):\n",
    "    return shp.filterMetadata(field, filter_type, filter_count)\n",
    "\n",
    "\n",
    "def bitwiseExtract(value, fromBit):\n",
    "    maskSize = ee.Number(1).add(fromBit).subtract(fromBit)\n",
    "    mask = ee.Number(1).leftShift(maskSize).subtract(1)\n",
    "    return value.rightShift(fromBit).bitwiseAnd(mask)\n",
    "\n",
    "\n",
    "def cloudfree_landsat(image):\n",
    "    qa = image.select('pixel_qa')\n",
    "    cloudState = bitwiseExtract(qa, 5) \n",
    "    cloudShadowState = bitwiseExtract(qa, 3)\n",
    "    mask = cloudState.eq(0).And(cloudShadowState.eq(0))\n",
    "    return image.updateMask(mask)"
   ]
  },
  {
   "cell_type": "code",
   "execution_count": 9,
   "metadata": {
    "ExecuteTime": {
     "end_time": "2021-06-02T01:25:47.288208Z",
     "start_time": "2021-06-02T01:25:47.274245Z"
    },
    "hide_input": false
   },
   "outputs": [],
   "source": [
    "# area calculate\n",
    "def area_calculate(shp):\n",
    "    areaHa = shp.area(10)\n",
    "    return shp.set({'area': areaHa})"
   ]
  },
  {
   "cell_type": "code",
   "execution_count": 10,
   "metadata": {
    "ExecuteTime": {
     "end_time": "2021-06-02T01:25:47.304165Z",
     "start_time": "2021-06-02T01:25:47.290203Z"
    }
   },
   "outputs": [],
   "source": [
    "def get_band_1(image, shp, year):\n",
    "    image = image.filterBounds(shp).filterDate(str(year) + '-05-1', str(year) + '-11-1').map(cloudfree_landsat).median()\n",
    "    if year >= 2013:\n",
    "        image = image.select('B2')\n",
    "    if year < 2013:\n",
    "        image = image.select('B1')\n",
    "    return image.clip(shp)\n",
    "\n",
    "def get_band_2(image, shp, year):\n",
    "    image = image.filterBounds(shp).filterDate(str(year) + '-05-1', str(year) + '-11-1').map(cloudfree_landsat).median()\n",
    "    if year >= 2013:\n",
    "        image = image.select('B3')\n",
    "    if year < 2013:\n",
    "        image = image.select('B2')\n",
    "    return image.clip(shp)\n",
    "\n",
    "def get_band_3(image, shp, year):\n",
    "    image = image.filterBounds(shp).filterDate(str(year) + '-05-1', str(year) + '-11-1').map(cloudfree_landsat).median()\n",
    "    if year >= 2013:\n",
    "        image = image.select('B4')\n",
    "    if year < 2013:\n",
    "        image = image.select('B3')\n",
    "    return image.clip(shp)\n",
    "\n",
    "def get_band_4(image, shp, year):\n",
    "    image = image.filterBounds(shp).filterDate(str(year) + '-05-1', str(year) + '-11-1').map(cloudfree_landsat).median()\n",
    "    if year >= 2013:\n",
    "        image = image.select('B5')\n",
    "    if year < 2013:\n",
    "        image = image.select('B4')\n",
    "#         print(image.getInfo(), year, 'NDVI')\n",
    "    return image.clip(shp)\n",
    "\n",
    "def get_band_5(image, shp, year):\n",
    "    image = image.filterBounds(shp).filterDate(str(year) + '-05-1', str(year) + '-11-1').map(cloudfree_landsat).median()\n",
    "    if year >= 2013:\n",
    "        image = image.select('B6')\n",
    "    if year < 2013:\n",
    "        image = image.select('B5')\n",
    "    return image.clip(shp)\n",
    "\n",
    "def get_band_7(image, shp, year):\n",
    "    image = image.filterBounds(shp).filterDate(str(year) + '-05-1', str(year) + '-11-1').map(cloudfree_landsat).median()\n",
    "    image = image.select('B6')\n",
    "    return image.clip(shp)"
   ]
  },
  {
   "cell_type": "markdown",
   "metadata": {
    "hide_input": false
   },
   "source": [
    "'''feature extract'''"
   ]
  },
  {
   "cell_type": "code",
   "execution_count": 11,
   "metadata": {
    "ExecuteTime": {
     "end_time": "2021-06-02T01:25:47.336080Z",
     "start_time": "2021-06-02T01:25:47.306160Z"
    },
    "hide_input": false
   },
   "outputs": [],
   "source": [
    "#ndvi nbr ndmi\n",
    "def addNDVI(image):\n",
    "    ndvi = image.normalizedDifference(['B5', 'B4']).rename('NDVI')\n",
    "    return image.addBands(ndvi)\n",
    "\n",
    "\n",
    "def addNDVI75(image):\n",
    "    ndvi = image.normalizedDifference(['B4', 'B3']).rename('NDVI')\n",
    "    return image.addBands(ndvi)\n",
    "\n",
    "\n",
    "def addNDMI(image):\n",
    "    ndmi = image.normalizedDifference(['B5', 'B6']).rename('NDMI')\n",
    "    return image.addBands(ndmi)\n",
    "\n",
    "\n",
    "def addNDMI75(image):\n",
    "    ndmi = image.normalizedDifference(['B4', 'B5']).rename('NDMI')\n",
    "    return image.addBands(ndmi)\n",
    "\n",
    "\n",
    "def addNBR(image):\n",
    "    nbr = image.normalizedDifference(['B5', 'B7']).rename('NBR')\n",
    "    return image.addBands(nbr)\n",
    "\n",
    "\n",
    "def addNBR75(image):\n",
    "    nbr = image.normalizedDifference(['B4', 'B7']).rename('NBR')\n",
    "    return image.addBands(nbr)\n",
    "    \n",
    " \n",
    "def get_ndvi(image, shp, year):\n",
    "    image = image.filterBounds(shp).filterDate(str(year) + '-05-1', str(year) + '-11-1').map(cloudfree_landsat).median()\n",
    "    if year >= 2013:\n",
    "        image = addNDVI(image).select('NDVI')\n",
    "#         print(image.getInfo(), year, 'NDVI')\n",
    "    if year < 2013:\n",
    "        image = addNDVI75(image).select('NDVI')\n",
    "#         print(image.getInfo(), year, 'NDVI')\n",
    "    return image\n",
    "\n",
    "    \n",
    "def get_ndmi(image, shp, year):\n",
    "    image = image.filterBounds(shp).filterDate(str(year) + '-05-1', str(year) + '-11-1').map(cloudfree_landsat).median()\n",
    "    if year >= 2013:\n",
    "        image = addNDMI(image).select('NDMI')\n",
    "#         print(image.getInfo(), year, 'NDMI')\n",
    "    if year < 2013:\n",
    "        image = addNDMI75(image).select('NDMI')\n",
    "#         print(image.getInfo(), year, 'NDMI')\n",
    "    return image\n",
    "\n",
    "    \n",
    "    \n",
    "def get_nbr(image, shp, year):\n",
    "    image = image.filterBounds(shp).filterDate(str(year) + '-05-1', str(year) + '-11-1').map(cloudfree_landsat).median()\n",
    "    if year >= 2013:\n",
    "        image = addNBR(image).select('NBR')\n",
    "#         print(image.getInfo(), year, 'NBR')\n",
    "    if year < 2013:\n",
    "        image = addNBR75(image).select('NBR')\n",
    "#         print(image.getInfo(), year, 'NBR')\n",
    "    return image\n",
    "\n",
    "\n",
    "\n",
    "def add_texture(nbr):\n",
    "    square = ee.Kernel.square(**{'radius': 5})\n",
    "    return nbr.multiply(1000).toInt().glcmTexture(**{\n",
    "    'kernel': square,\n",
    "    'size': 5,\n",
    "    })\n",
    "\n",
    "\n",
    "def feature_extract(shp, image, name):\n",
    "    return image.reduceRegions(**{\n",
    "    'collection': shp,\n",
    "    'reducer': ee.Reducer.mean().setOutputs(name),\n",
    "    'scale': 90\n",
    "    })\n",
    "\n",
    "\n",
    "# def get_index(ls, shp, year, org_year, time):\n",
    "#     shp_feature = feature_extract(shp, get_ndvi(ls, shp, year), [time + '_NDVI_' + str(abs(year - org_year))])\n",
    "#     shp_feature = feature_extract(shp_feature, get_ndmi(ls, shp, year), [time + '_NDMI_' + str(abs(year - org_year))])\n",
    "#     shp_feature = feature_extract(shp_feature, get_nbr(ls, shp, year), [time + '_NBR_' + str(abs(year - org_year))])\n",
    "#     return shp_feature\n",
    "\n",
    "def get_index(ls, shp, year, org_year, time):\n",
    "    shp_feature = feature_extract(shp, get_ndvi(ls, shp, year).select('NDVI'), [time + '_NDVI_' + str(abs(year - org_year))])\n",
    "    shp_feature = feature_extract(shp_feature, get_ndmi(ls, shp, year).select('NDMI'), [time + '_NDMI_' + str(abs(year - org_year))])\n",
    "    shp_feature = feature_extract(shp_feature, get_nbr(ls, shp, year).select('NBR'), [time + '_NBR_' + str(abs(year - org_year))])\n",
    "#     shp_feature = feature_extract(shp_feature, get_band_1(ls, shp, year), [time + '_B1_' + str(abs(year - org_year))])\n",
    "#     shp_feature = feature_extract(shp_feature, get_band_2(ls, shp, year), [time + '_B2_' + str(abs(year - org_year))])\n",
    "#     shp_feature = feature_extract(shp_feature, get_band_3(ls, shp, year), [time + '_B3_' + str(abs(year - org_year))])\n",
    "#     shp_feature = feature_extract(shp_feature, get_band_4(ls, shp, year), [time + '_B4_' + str(abs(year - org_year))])\n",
    "#     shp_feature = feature_extract(shp_feature, get_band_5(ls, shp, year), [time + '_B5_' + str(abs(year - org_year))])\n",
    "#     shp_feature = feature_extract(shp_feature, get_band_7(ls, shp, year), [time + '_B7_' + str(abs(year - org_year))])\n",
    "    return shp_feature"
   ]
  },
  {
   "cell_type": "code",
   "execution_count": 12,
   "metadata": {
    "ExecuteTime": {
     "end_time": "2021-06-02T01:25:47.352038Z",
     "start_time": "2021-06-02T01:25:47.338075Z"
    },
    "hide_input": false
   },
   "outputs": [],
   "source": [
    "# process\n",
    "def pre_interfere(shp, year0):\n",
    "    if year0 - 2 <= start_year - 1:\n",
    "        for year in range(start_year, year0):\n",
    "            if year != 2012:\n",
    "                shp = get_index(select_ls(year), shp, year, year0, 'PR')\n",
    "    else:\n",
    "        for year in range(year0 - 2, year0):\n",
    "            if year != 2012:\n",
    "                shp = get_index(select_ls(year), shp, year, year0, 'PR')\n",
    "    return shp\n",
    "\n",
    "\n",
    "def aft_interfere(shp, year0):\n",
    "    if year0 + 5 >= end_year + 1:\n",
    "        for year in range(year0, end_year + 1):\n",
    "            if year != 2012:\n",
    "                shp = get_index(select_ls(year), shp, year, year0, 'PT')\n",
    "    else:\n",
    "        for year in range(year0, year0 + 6):\n",
    "            if year != 2012:\n",
    "                shp = get_index(select_ls(year), shp, year, year0, 'PT')\n",
    "    return shp\n",
    "\n",
    "\n",
    "def select_ls(year):\n",
    "    if year >=2013:\n",
    "        ls = ee.ImageCollection(\"LANDSAT/LC08/C01/T1_SR\")\n",
    "    elif year >= 2003:\n",
    "        ls = ee.ImageCollection(\"LANDSAT/LT05/C01/T1_SR\")\n",
    "    elif year >= 1999:\n",
    "#         ls = ee.ImageCollection(\"LANDSAT/LE07/C01/T1_TOA\").merge(ee.ImageCollection(\"LANDSAT/LT05/C01/T1_TOA\"))\n",
    "        ls = ee.ImageCollection(\"LANDSAT/LE07/C01/T1_SR\")\n",
    "    else:\n",
    "        ls = ee.ImageCollection(\"LANDSAT/LT05/C01/T1_SR\")\n",
    "    return ls\n",
    "\n",
    "\n",
    "def process(shp, year):\n",
    "    shp = sievel(shp, 'count', 10, 'greater_than')\n",
    "    shp_feature = pre_interfere(shp, year)\n",
    "    shp_feature = aft_interfere(shp_feature, year)\n",
    "    if year != end_year:\n",
    "        if year == 2011:\n",
    "            texture = add_texture(get_nbr(select_ls(year + 2), shp, year + 2))\n",
    "        else:\n",
    "            texture = add_texture(get_nbr(select_ls(year + 1), shp, year + 1))\n",
    "        shp_feature = feature_extract(shp_feature, texture.select('NBR_asm'), ['TXU_asm'])\n",
    "        shp_feature = feature_extract(shp_feature, texture.select('NBR_idm'), ['TXU_HOM'])\n",
    "        shp_feature = feature_extract(shp_feature, texture.select('NBR_contrast'), ['TXU_CON'])\n",
    "        shp_feature = feature_extract(shp_feature, texture.select('NBR_sent'), ['TXU_ENT'])\n",
    "#     print(shp_feature.first().getInfo(), '4')\n",
    "    shp_feature = feature_extract(shp_feature, changeMap.select('mag'), ['LT_mag'])\n",
    "    shp_feature = feature_extract(shp_feature, changeMap.select('dur'), ['LT_dur'])\n",
    "    shp_feature = feature_extract(shp_feature, changeMap.select('dsnr'), ['LT_dsnr'])\n",
    "    return shp_feature"
   ]
  },
  {
   "cell_type": "code",
   "execution_count": 13,
   "metadata": {
    "ExecuteTime": {
     "end_time": "2021-06-02T01:25:47.367995Z",
     "start_time": "2021-06-02T01:25:47.354033Z"
    },
    "hide_input": false,
    "scrolled": true
   },
   "outputs": [],
   "source": [
    "#export\n",
    "def export_to_driver(shp, year, x, y, filter_count):\n",
    "    taskParams = {\n",
    "    'driveFolder': 'NE_shp_30_6/1',\n",
    "    'fileFormat': 'SHP'\n",
    "    }\n",
    "    task = ee.batch.Export.table(shp, str(year) + '_' + str(x) + '_' + str(y) + '_' + str(filter_count), taskParams)\n",
    "    task.start()"
   ]
  },
  {
   "cell_type": "code",
   "execution_count": 14,
   "metadata": {
    "ExecuteTime": {
     "end_time": "2021-06-02T01:25:47.383952Z",
     "start_time": "2021-06-02T01:25:47.369990Z"
    },
    "hide_input": true
   },
   "outputs": [],
   "source": [
    "def export_to_driver_4(shp, year, x, y, filter_count):\n",
    "    taskParams = {\n",
    "    'driveFolder': 'NE_shp_90_mask',\n",
    "    'fileFormat': 'SHP'\n",
    "    }\n",
    "    task = ee.batch.Export.table(shp, str(year) + '_' + str(x) + '_' + str(y) + '_' + str(filter_count), taskParams)\n",
    "    task.start()"
   ]
  },
  {
   "cell_type": "code",
   "execution_count": 15,
   "metadata": {
    "ExecuteTime": {
     "end_time": "2021-06-02T01:25:47.399909Z",
     "start_time": "2021-06-02T01:25:47.385947Z"
    },
    "hide_input": true
   },
   "outputs": [],
   "source": [
    "def shp_part_process(shp_ogr, year, count_filter, shp_type, count, step):\n",
    "    if shp_type == 'b':\n",
    "        shp_p = process(sievel(shp_ogr, 'count', count_filter + step, 'greater_than'), year)\n",
    "    else:\n",
    "        shp_p = sievel(shp_ogr, 'count', count + step, 'not_greater_than')\n",
    "        shp_p = sievel(shp_p, 'count', count, 'greater_than')\n",
    "        shp_p = process(shp_p, year)\n",
    "#         shp_p = process(sievel(shp_ogr, 'count', count_filter, 'not_greater_than'), year)\n",
    "    return shp_p"
   ]
  },
  {
   "cell_type": "code",
   "execution_count": 16,
   "metadata": {
    "ExecuteTime": {
     "end_time": "2021-06-02T01:25:47.415866Z",
     "start_time": "2021-06-02T01:25:47.401904Z"
    },
    "hide_input": true
   },
   "outputs": [],
   "source": [
    "# import os\n",
    "# from tqdm import tqdm\n",
    "# path = \"D:\\\\data\\\\GEE\\\\NE_shp_30_mask\\\\\"\n",
    "\n",
    "\n",
    "# def get_path(year, i, j):\n",
    "#     return [str(year) + '_' + str(i) + '_' + str(j + 1) + '_30.shp',\n",
    "#            str(year) + '_' + str(i + 1) + '_' + str(j) + '_30.shp',\n",
    "#            str(year) + '_' + str(i - 1) + '_' + str(j) + '_30.shp',\n",
    "#            str(year) + '_' + str(i) + '_' + str(j - 1) + '_30.shp',]"
   ]
  },
  {
   "cell_type": "code",
   "execution_count": 17,
   "metadata": {
    "ExecuteTime": {
     "end_time": "2021-06-02T01:25:47.431824Z",
     "start_time": "2021-06-02T01:25:47.417861Z"
    },
    "hide_input": true
   },
   "outputs": [],
   "source": [
    "# empty_path = []\n",
    "# for year in tqdm(range(start_year, end_year + 1)):\n",
    "#     year_path = path + str(year) + '\\\\'\n",
    "#     exisit_path = os.listdir(path + str(year))\n",
    "#     for i in range(115, 137):\n",
    "#         for j in range(54, 37, -1):\n",
    "#             count = 0\n",
    "#             shp_path = year_path + str(year) + '_' + str(i) + '_' + str(j) +  '_30.shp'\n",
    "#             if not os.path.exists(shp_path):\n",
    "#                 for shp_name in get_path(year, i, j):\n",
    "#                     other_shp_path = year_path + shp_name\n",
    "#                     if os.path.exists(other_shp_path):\n",
    "#                         count += 1\n",
    "#                 if count >= 2:\n",
    "#                     empty_path.append([year, i, j])"
   ]
  },
  {
   "cell_type": "code",
   "execution_count": 18,
   "metadata": {
    "ExecuteTime": {
     "end_time": "2021-06-02T01:25:47.447781Z",
     "start_time": "2021-06-02T01:25:47.433819Z"
    },
    "hide_input": true
   },
   "outputs": [],
   "source": [
    "# for year, i, j in tqdm(empty_path):\n",
    "# #     roi_list = [(i, j), (i + 0.5, j), (i, j - 0.5), (i + 0.5, j - 0.5)]\n",
    "# #     count = 1\n",
    "# #     for m, n in roi_list:\n",
    "# #         roi = ee.Geometry.Polygon(\n",
    "# #             [[m-0.01,n+0.01],[m+0.51,n+0.01],[m+0.51,n-0.51],[m-0.01,n-0.51]])\n",
    "#         roi = ee.Geometry.Polygon(\n",
    "#              [[i-0.01,j+0.01],[i+1.01,j+0.01],[i+1.01,j-1.01],[i-0.01,j-1.01]])\n",
    "#         exportImg = changeMap.clip(roi).short().select('yod')\n",
    "#         exportImg = exportImg.unmask(0).focal_median(**{\n",
    "#         'radius': 3.5,\n",
    "#         'kernelType': 'square'\n",
    "#         }).toInt()\n",
    "#         maskImg = IFZ_mask.clip(roi)\n",
    "#         if year != 2012:\n",
    "#             shp_ogr = tif_to_shp(exportImg, year)\n",
    "#             shp_ogr = reduce_mask(shp_ogr, maskImg)\n",
    "#             if year > 2000:\n",
    "#                 image_fire = fire_process(roi, image_collection_fire, year).unmask(0)\n",
    "#                 shp_fire_classify = feature_extract(shp_ogr, image_fire, ['fire_class'])\n",
    "#                 shp_unfire = sievel(shp_fire_classify, 'fire_class', 0, 'equals')\n",
    "#                 shp_fire = sievel(shp_fire_classify, 'fire_class', 0, 'greater_than')\n",
    "#                 shp = process(shp_ogr, year).merge(shp_fire)\n",
    "#             else:\n",
    "#                 shp = process(shp_ogr, year)\n",
    "#         export_to_driver_4(shp, year, i, j, 90)"
   ]
  },
  {
   "cell_type": "code",
   "execution_count": 19,
   "metadata": {
    "ExecuteTime": {
     "end_time": "2021-06-02T01:25:47.463739Z",
     "start_time": "2021-06-02T01:25:47.449776Z"
    },
    "hide_input": true
   },
   "outputs": [],
   "source": [
    "# def calculation_IFZ(FZ):\n",
    "#     IFZ = FZ.expression(\n",
    "#     '(B3 ** 2 + B5 ** 2 + B7 ** 2) / 3',\n",
    "#     {\n",
    "#         'B3': FZ.select('B3'),\n",
    "#         'B5': FZ.select('B5'),\n",
    "#         'B7': FZ.select('B7')\n",
    "#     }).sqrt()\n",
    "#     return IFZ\n",
    "\n",
    "\n",
    "# def calculation_FZ(image_cal, image_target, band):\n",
    "#     mean = image_cal.reduceRegions(**{\n",
    "#     'collection': protect_area,\n",
    "#     'reducer': ee.Reducer.mean(),\n",
    "# #         .setOutputs(name),\n",
    "#     'scale': 30\n",
    "#     }).aggregate_mean(band)\n",
    "#     std = image_cal.reduceRegions(**{\n",
    "#     'collection': protect_area,\n",
    "#     'reducer': ee.Reducer.stdDev(),\n",
    "# #         .setOutputs(name),\n",
    "#     'scale': 30\n",
    "#     }).aggregate_mean(band)\n",
    "#     FZ = image_target.expression(\n",
    "#     '(B - B_mean) / B_std',\n",
    "#     {\n",
    "#         'B': image_target.select(band),\n",
    "#         'B_mean': mean,\n",
    "#         'B_std': std\n",
    "#     })\n",
    "#     return FZ\n",
    "\n",
    "\n",
    "\n",
    "# def select_ls357(year):\n",
    "#     if year >=2013:\n",
    "#         ls = ee.ImageCollection(\"LANDSAT/LC08/C01/T1_SR\").select(['B4', 'B6', 'B7', 'pixel_qa'])\n",
    "#     elif year >= 2003:\n",
    "#         ls = ee.ImageCollection(\"LANDSAT/LT05/C01/T1_SR\").select(['B3', 'B5', 'B7', 'pixel_qa'])\n",
    "#     elif year >= 1999:\n",
    "#         ls = ee.ImageCollection(\"LANDSAT/LE07/C01/T1_SR\").select(['B3', 'B5', 'B7', 'pixel_qa'])\n",
    "#     else:\n",
    "#         ls = ee.ImageCollection(\"LANDSAT/LT05/C01/T1_SR\").select(['B3', 'B5', 'B7', 'pixel_qa'])\n",
    "#     return ls\n",
    "\n",
    "\n",
    "# def get_IFZ(year):\n",
    "#     ls = select_ls357(year)\n",
    "#     image_pa = ls.filterBounds(protect_area).filterDate(str(year) + '-06-1',str(year) + '-9-30').map(cloudfree_landsat).median().rename(['B3', 'B5', 'B7', 'pixel_qa'])\n",
    "#     mask_image = ls.filterBounds(roi).filterDate(str(year) + '-06-1',str(year) + '-9-30').map(cloudfree_landsat).median().rename(['B3', 'B5', 'B7', 'pixel_qa'])\n",
    "#     FZ = calculation_FZ(image_pa, mask_image, 'B3').addBands(calculation_FZ(image_pa, mask_image, 'B5')).addBands(calculation_FZ(image_pa, mask_image, 'B7'))\n",
    "#     IFZ = ee.ImageCollection(calculation_IFZ(FZ).lte(3))\n",
    "#     return IFZ\n",
    "\n",
    "# # def forest_mask(changeMap):\n",
    "# IFZ_list = []\n",
    "# roi = ee.Geometry.Polygon([[114, 55], [137, 55], [137, 37], [114, 37]])\n",
    "# aoi = ee.Geometry.Polygon([[123, 52], [126, 52], [126, 50], [123, 50]])\n",
    "# windows_size = 5\n",
    "# for syear in range(start_year, end_year - windows_size + 1):\n",
    "#     if syear <= 1989:\n",
    "#         IFZ_pre = get_IFZ(syear)\n",
    "#         if syear == start_year:\n",
    "#             IFZ_col_pre = IFZ_pre   \n",
    "#         else:\n",
    "#             IFZ_col_pre = IFZ_col_pre.merge(IFZ_pre)\n",
    "#     for year in range(syear, syear + windows_size):\n",
    "#         if year != 2012:\n",
    "#             IFZ = get_IFZ(year)\n",
    "#         else:\n",
    "#             IFZ = get_IFZ(year - 1)\n",
    "#         if year == syear:\n",
    "#             IFZ_col = IFZ\n",
    "#         else:\n",
    "#             IFZ_col = IFZ_col.merge(IFZ)\n",
    "#     IFZ_all = ee.ImageCollection(IFZ_col.sum().eq(windows_size))\n",
    "#     if syear == start_year:\n",
    "#         IFZ_all_all = IFZ_all\n",
    "#     else:\n",
    "#         IFZ_all_all = IFZ_all_all.merge(IFZ_all)\n",
    "# IFZ_mask_win = IFZ_all_all.sum().gt(0)\n",
    "# IFZ_mask_pre = IFZ_col_pre.sum().gt(0)\n",
    "# IFZ_mask = IFZ_mask_win.add(IFZ_mask_pre).gt(0)\n",
    "# # forest_mask(changeMap)"
   ]
  },
  {
   "cell_type": "code",
   "execution_count": 20,
   "metadata": {
    "ExecuteTime": {
     "end_time": "2021-06-02T01:25:47.479696Z",
     "start_time": "2021-06-02T01:25:47.465735Z"
    },
    "hide_input": true
   },
   "outputs": [],
   "source": [
    "# task = ee.batch.Export.image.toAsset(image=IFZ_mask,\n",
    "# assetId=\"users/dxj/changeMap_mask\",\n",
    "# scale=30,\n",
    "# maxPixels=1e13,\n",
    "# region=roi\n",
    "# )\n",
    "# #任务启动\n",
    "# task.start()"
   ]
  },
  {
   "cell_type": "code",
   "execution_count": 21,
   "metadata": {
    "ExecuteTime": {
     "end_time": "2021-06-02T01:25:47.495653Z",
     "start_time": "2021-06-02T01:25:47.481691Z"
    },
    "hide_input": true
   },
   "outputs": [],
   "source": [
    "# Map = geemap.Map(center=(44, 125), zoom=5)\n",
    "# Map"
   ]
  },
  {
   "cell_type": "code",
   "execution_count": 22,
   "metadata": {
    "ExecuteTime": {
     "end_time": "2021-06-02T01:29:42.542849Z",
     "start_time": "2021-06-02T01:25:47.497648Z"
    },
    "hide_input": false,
    "scrolled": true
   },
   "outputs": [],
   "source": [
    "# start_year = 2002\n",
    "# end_year = 2004\n",
    "# [(117, 52),(117, 54), (125, 53), (116, 54), (116, 52), (115, 53),\n",
    "#              (115, 54), (117, 53), (124, 54), (118, 53), (119, 53), (120, 53)]:\n",
    "# [(122,52)]:\n",
    "\n",
    "# for i, j in [(122, 52), (123, 52), (128, 48), (129, 48)]:\n",
    "for i in range(116, 117):\n",
    "    for j in range(42, 54):\n",
    "        roi = ee.Geometry.Polygon(\n",
    "             [[i-0.01,j+0.01],[i+1.01,j+0.01],[i+1.01,j-1.01],[i-0.01,j-1.01]])\n",
    "        exportImg = changeMap.clip(roi).short().select('yod')\n",
    "        exportImg = exportImg.unmask(0).focal_median(**{\n",
    "        'radius': 2.5,\n",
    "        'kernelType': 'square'\n",
    "        }).toInt()\n",
    "        maskImg = IFZ_mask.clip(roi)\n",
    "        exportImg = exportImg.mask(exportImg.eq(0).Not())\n",
    "        for year in range(start_year, end_year + 1):\n",
    "            if year != 2012:\n",
    "                if year != start_year:\n",
    "                    shp_ogr = tif_to_shp(mask_last_year(shp_pre, exportImg, year, roi), year)\n",
    "                    shp_pre = ruduce_year(shp_ogr, exportImg, year)\n",
    "                    shp_ogr = reduce_mask(shp_pre, maskImg)\n",
    "                else:\n",
    "                    shp_ogr = tif_to_shp(exportImg, year)\n",
    "                    shp_pre = ruduce_year(shp_ogr, exportImg, year)\n",
    "                    shp_ogr = reduce_mask(shp_pre, maskImg)\n",
    "                if year > 2000:\n",
    "                    image_fire = fire_process(roi, image_collection_fire, year).unmask(0)\n",
    "                    shp_fire_classify = feature_extract(shp_ogr, image_fire, ['fire_class'])\n",
    "                    shp_unfire = sievel(shp_fire_classify, 'fire_class', 0, 'equals')\n",
    "                    shp_unfire = shp_unfire.set('fire_class', 1)\n",
    "                    shp_fire = sievel(shp_fire_classify, 'fire_class', 0, 'greater_than')\n",
    "                    shp_fire = shp_fire.set('fire_class', 0)\n",
    "                    shp = process(shp_unfire, year).merge(shp_fire)\n",
    "                else:\n",
    "                    shp = process(shp_ogr, year)\n",
    "                export_to_driver(shp, year, i, j, 30)\n",
    "#         Map.addLayer(shp_ogr, {}, 'shp_' + str(year))\n",
    "#     Map.addLayer(exportImg, {'min': 1986, 'max': 2019}, 'changeMap')"
   ]
  },
  {
   "cell_type": "code",
   "execution_count": 23,
   "metadata": {
    "ExecuteTime": {
     "end_time": "2021-06-02T02:32:38.614003Z",
     "start_time": "2021-06-02T01:29:42.545842Z"
    },
    "hide_input": false,
    "scrolled": true
   },
   "outputs": [
    {
     "ename": "KeyboardInterrupt",
     "evalue": "",
     "output_type": "error",
     "traceback": [
      "\u001b[1;31m---------------------------------------------------------------------------\u001b[0m",
      "\u001b[1;31mKeyboardInterrupt\u001b[0m                         Traceback (most recent call last)",
      "\u001b[1;32m<ipython-input-23-eb3f5f89ec6e>\u001b[0m in \u001b[0;36m<module>\u001b[1;34m\u001b[0m\n\u001b[0;32m     38\u001b[0m                 \u001b[1;32melse\u001b[0m\u001b[1;33m:\u001b[0m\u001b[1;33m\u001b[0m\u001b[1;33m\u001b[0m\u001b[0m\n\u001b[0;32m     39\u001b[0m                     \u001b[0mshp\u001b[0m \u001b[1;33m=\u001b[0m \u001b[0mprocess\u001b[0m\u001b[1;33m(\u001b[0m\u001b[0mshp_ogr\u001b[0m\u001b[1;33m,\u001b[0m \u001b[0myear\u001b[0m\u001b[1;33m)\u001b[0m\u001b[1;33m\u001b[0m\u001b[1;33m\u001b[0m\u001b[0m\n\u001b[1;32m---> 40\u001b[1;33m                 \u001b[0mexport_to_driver\u001b[0m\u001b[1;33m(\u001b[0m\u001b[0mshp\u001b[0m\u001b[1;33m,\u001b[0m \u001b[0myear\u001b[0m\u001b[1;33m,\u001b[0m \u001b[0mi\u001b[0m\u001b[1;33m,\u001b[0m \u001b[0mj\u001b[0m\u001b[1;33m,\u001b[0m \u001b[1;36m30\u001b[0m\u001b[1;33m)\u001b[0m\u001b[1;33m\u001b[0m\u001b[1;33m\u001b[0m\u001b[0m\n\u001b[0m",
      "\u001b[1;32m<ipython-input-13-d2f21f0a017a>\u001b[0m in \u001b[0;36mexport_to_driver\u001b[1;34m(shp, year, x, y, filter_count)\u001b[0m\n\u001b[0;32m      6\u001b[0m     }\n\u001b[0;32m      7\u001b[0m     \u001b[0mtask\u001b[0m \u001b[1;33m=\u001b[0m \u001b[0mee\u001b[0m\u001b[1;33m.\u001b[0m\u001b[0mbatch\u001b[0m\u001b[1;33m.\u001b[0m\u001b[0mExport\u001b[0m\u001b[1;33m.\u001b[0m\u001b[0mtable\u001b[0m\u001b[1;33m(\u001b[0m\u001b[0mshp\u001b[0m\u001b[1;33m,\u001b[0m \u001b[0mstr\u001b[0m\u001b[1;33m(\u001b[0m\u001b[0myear\u001b[0m\u001b[1;33m)\u001b[0m \u001b[1;33m+\u001b[0m \u001b[1;34m'_'\u001b[0m \u001b[1;33m+\u001b[0m \u001b[0mstr\u001b[0m\u001b[1;33m(\u001b[0m\u001b[0mx\u001b[0m\u001b[1;33m)\u001b[0m \u001b[1;33m+\u001b[0m \u001b[1;34m'_'\u001b[0m \u001b[1;33m+\u001b[0m \u001b[0mstr\u001b[0m\u001b[1;33m(\u001b[0m\u001b[0my\u001b[0m\u001b[1;33m)\u001b[0m \u001b[1;33m+\u001b[0m \u001b[1;34m'_'\u001b[0m \u001b[1;33m+\u001b[0m \u001b[0mstr\u001b[0m\u001b[1;33m(\u001b[0m\u001b[0mfilter_count\u001b[0m\u001b[1;33m)\u001b[0m\u001b[1;33m,\u001b[0m \u001b[0mtaskParams\u001b[0m\u001b[1;33m)\u001b[0m\u001b[1;33m\u001b[0m\u001b[1;33m\u001b[0m\u001b[0m\n\u001b[1;32m----> 8\u001b[1;33m     \u001b[0mtask\u001b[0m\u001b[1;33m.\u001b[0m\u001b[0mstart\u001b[0m\u001b[1;33m(\u001b[0m\u001b[1;33m)\u001b[0m\u001b[1;33m\u001b[0m\u001b[1;33m\u001b[0m\u001b[0m\n\u001b[0m",
      "\u001b[1;32m~\\anaconda3\\lib\\site-packages\\ee\\batch.py\u001b[0m in \u001b[0;36mstart\u001b[1;34m(self)\u001b[0m\n\u001b[0;32m     85\u001b[0m       \u001b[0mresult\u001b[0m \u001b[1;33m=\u001b[0m \u001b[0mdata\u001b[0m\u001b[1;33m.\u001b[0m\u001b[0mexportMap\u001b[0m\u001b[1;33m(\u001b[0m\u001b[0mself\u001b[0m\u001b[1;33m.\u001b[0m\u001b[0m_request_id\u001b[0m\u001b[1;33m,\u001b[0m \u001b[0mself\u001b[0m\u001b[1;33m.\u001b[0m\u001b[0mconfig\u001b[0m\u001b[1;33m)\u001b[0m\u001b[1;33m\u001b[0m\u001b[1;33m\u001b[0m\u001b[0m\n\u001b[0;32m     86\u001b[0m     \u001b[1;32melif\u001b[0m \u001b[0mself\u001b[0m\u001b[1;33m.\u001b[0m\u001b[0mtask_type\u001b[0m \u001b[1;33m==\u001b[0m \u001b[0mTask\u001b[0m\u001b[1;33m.\u001b[0m\u001b[0mType\u001b[0m\u001b[1;33m.\u001b[0m\u001b[0mEXPORT_TABLE\u001b[0m\u001b[1;33m:\u001b[0m\u001b[1;33m\u001b[0m\u001b[1;33m\u001b[0m\u001b[0m\n\u001b[1;32m---> 87\u001b[1;33m       \u001b[0mresult\u001b[0m \u001b[1;33m=\u001b[0m \u001b[0mdata\u001b[0m\u001b[1;33m.\u001b[0m\u001b[0mexportTable\u001b[0m\u001b[1;33m(\u001b[0m\u001b[0mself\u001b[0m\u001b[1;33m.\u001b[0m\u001b[0m_request_id\u001b[0m\u001b[1;33m,\u001b[0m \u001b[0mself\u001b[0m\u001b[1;33m.\u001b[0m\u001b[0mconfig\u001b[0m\u001b[1;33m)\u001b[0m\u001b[1;33m\u001b[0m\u001b[1;33m\u001b[0m\u001b[0m\n\u001b[0m\u001b[0;32m     88\u001b[0m     \u001b[1;32melif\u001b[0m \u001b[0mself\u001b[0m\u001b[1;33m.\u001b[0m\u001b[0mtask_type\u001b[0m \u001b[1;33m==\u001b[0m \u001b[0mTask\u001b[0m\u001b[1;33m.\u001b[0m\u001b[0mType\u001b[0m\u001b[1;33m.\u001b[0m\u001b[0mEXPORT_VIDEO\u001b[0m\u001b[1;33m:\u001b[0m\u001b[1;33m\u001b[0m\u001b[1;33m\u001b[0m\u001b[0m\n\u001b[0;32m     89\u001b[0m       \u001b[0mresult\u001b[0m \u001b[1;33m=\u001b[0m \u001b[0mdata\u001b[0m\u001b[1;33m.\u001b[0m\u001b[0mexportVideo\u001b[0m\u001b[1;33m(\u001b[0m\u001b[0mself\u001b[0m\u001b[1;33m.\u001b[0m\u001b[0m_request_id\u001b[0m\u001b[1;33m,\u001b[0m \u001b[0mself\u001b[0m\u001b[1;33m.\u001b[0m\u001b[0mconfig\u001b[0m\u001b[1;33m)\u001b[0m\u001b[1;33m\u001b[0m\u001b[1;33m\u001b[0m\u001b[0m\n",
      "\u001b[1;32m~\\anaconda3\\lib\\site-packages\\ee\\data.py\u001b[0m in \u001b[0;36mexportTable\u001b[1;34m(request_id, params)\u001b[0m\n\u001b[0;32m   1380\u001b[0m   \u001b[0mparams\u001b[0m \u001b[1;33m=\u001b[0m \u001b[0mparams\u001b[0m\u001b[1;33m.\u001b[0m\u001b[0mcopy\u001b[0m\u001b[1;33m(\u001b[0m\u001b[1;33m)\u001b[0m\u001b[1;33m\u001b[0m\u001b[1;33m\u001b[0m\u001b[0m\n\u001b[0;32m   1381\u001b[0m   \u001b[1;32mif\u001b[0m \u001b[0m_use_cloud_api\u001b[0m\u001b[1;33m:\u001b[0m\u001b[1;33m\u001b[0m\u001b[1;33m\u001b[0m\u001b[0m\n\u001b[1;32m-> 1382\u001b[1;33m     return _prepare_and_run_export(\n\u001b[0m\u001b[0;32m   1383\u001b[0m         \u001b[0mrequest_id\u001b[0m\u001b[1;33m,\u001b[0m \u001b[0mparams\u001b[0m\u001b[1;33m,\u001b[0m\u001b[1;33m\u001b[0m\u001b[1;33m\u001b[0m\u001b[0m\n\u001b[0;32m   1384\u001b[0m         _get_cloud_api_resource().projects().table().export)\n",
      "\u001b[1;32m~\\anaconda3\\lib\\site-packages\\ee\\data.py\u001b[0m in \u001b[0;36m_prepare_and_run_export\u001b[1;34m(request_id, params, export_endpoint)\u001b[0m\n\u001b[0;32m   1478\u001b[0m         params['expression'], for_cloud_api=True)\n\u001b[0;32m   1479\u001b[0m   \u001b[0mnum_retries\u001b[0m \u001b[1;33m=\u001b[0m \u001b[0mMAX_RETRIES\u001b[0m \u001b[1;32mif\u001b[0m \u001b[0mrequest_id\u001b[0m \u001b[1;32melse\u001b[0m \u001b[1;36m0\u001b[0m\u001b[1;33m\u001b[0m\u001b[1;33m\u001b[0m\u001b[0m\n\u001b[1;32m-> 1480\u001b[1;33m   return _execute_cloud_call(\n\u001b[0m\u001b[0;32m   1481\u001b[0m       \u001b[0mexport_endpoint\u001b[0m\u001b[1;33m(\u001b[0m\u001b[0mproject\u001b[0m\u001b[1;33m=\u001b[0m\u001b[0m_get_projects_path\u001b[0m\u001b[1;33m(\u001b[0m\u001b[1;33m)\u001b[0m\u001b[1;33m,\u001b[0m \u001b[0mbody\u001b[0m\u001b[1;33m=\u001b[0m\u001b[0mparams\u001b[0m\u001b[1;33m)\u001b[0m\u001b[1;33m,\u001b[0m\u001b[1;33m\u001b[0m\u001b[1;33m\u001b[0m\u001b[0m\n\u001b[0;32m   1482\u001b[0m       num_retries=num_retries)\n",
      "\u001b[1;32m~\\anaconda3\\lib\\site-packages\\ee\\data.py\u001b[0m in \u001b[0;36m_execute_cloud_call\u001b[1;34m(call, num_retries)\u001b[0m\n\u001b[0;32m    343\u001b[0m   \"\"\"\n\u001b[0;32m    344\u001b[0m   \u001b[1;32mtry\u001b[0m\u001b[1;33m:\u001b[0m\u001b[1;33m\u001b[0m\u001b[1;33m\u001b[0m\u001b[0m\n\u001b[1;32m--> 345\u001b[1;33m     \u001b[1;32mreturn\u001b[0m \u001b[0mcall\u001b[0m\u001b[1;33m.\u001b[0m\u001b[0mexecute\u001b[0m\u001b[1;33m(\u001b[0m\u001b[0mnum_retries\u001b[0m\u001b[1;33m=\u001b[0m\u001b[0mnum_retries\u001b[0m\u001b[1;33m)\u001b[0m\u001b[1;33m\u001b[0m\u001b[1;33m\u001b[0m\u001b[0m\n\u001b[0m\u001b[0;32m    346\u001b[0m   \u001b[1;32mexcept\u001b[0m \u001b[0mgoogleapiclient\u001b[0m\u001b[1;33m.\u001b[0m\u001b[0merrors\u001b[0m\u001b[1;33m.\u001b[0m\u001b[0mHttpError\u001b[0m \u001b[1;32mas\u001b[0m \u001b[0me\u001b[0m\u001b[1;33m:\u001b[0m\u001b[1;33m\u001b[0m\u001b[1;33m\u001b[0m\u001b[0m\n\u001b[0;32m    347\u001b[0m     \u001b[1;32mraise\u001b[0m \u001b[0m_translate_cloud_exception\u001b[0m\u001b[1;33m(\u001b[0m\u001b[0me\u001b[0m\u001b[1;33m)\u001b[0m\u001b[1;33m\u001b[0m\u001b[1;33m\u001b[0m\u001b[0m\n",
      "\u001b[1;32m~\\anaconda3\\lib\\site-packages\\googleapiclient\\_helpers.py\u001b[0m in \u001b[0;36mpositional_wrapper\u001b[1;34m(*args, **kwargs)\u001b[0m\n\u001b[0;32m    132\u001b[0m                 \u001b[1;32melif\u001b[0m \u001b[0mpositional_parameters_enforcement\u001b[0m \u001b[1;33m==\u001b[0m \u001b[0mPOSITIONAL_WARNING\u001b[0m\u001b[1;33m:\u001b[0m\u001b[1;33m\u001b[0m\u001b[1;33m\u001b[0m\u001b[0m\n\u001b[0;32m    133\u001b[0m                     \u001b[0mlogger\u001b[0m\u001b[1;33m.\u001b[0m\u001b[0mwarning\u001b[0m\u001b[1;33m(\u001b[0m\u001b[0mmessage\u001b[0m\u001b[1;33m)\u001b[0m\u001b[1;33m\u001b[0m\u001b[1;33m\u001b[0m\u001b[0m\n\u001b[1;32m--> 134\u001b[1;33m             \u001b[1;32mreturn\u001b[0m \u001b[0mwrapped\u001b[0m\u001b[1;33m(\u001b[0m\u001b[1;33m*\u001b[0m\u001b[0margs\u001b[0m\u001b[1;33m,\u001b[0m \u001b[1;33m**\u001b[0m\u001b[0mkwargs\u001b[0m\u001b[1;33m)\u001b[0m\u001b[1;33m\u001b[0m\u001b[1;33m\u001b[0m\u001b[0m\n\u001b[0m\u001b[0;32m    135\u001b[0m \u001b[1;33m\u001b[0m\u001b[0m\n\u001b[0;32m    136\u001b[0m         \u001b[1;32mreturn\u001b[0m \u001b[0mpositional_wrapper\u001b[0m\u001b[1;33m\u001b[0m\u001b[1;33m\u001b[0m\u001b[0m\n",
      "\u001b[1;32m~\\anaconda3\\lib\\site-packages\\googleapiclient\\http.py\u001b[0m in \u001b[0;36mexecute\u001b[1;34m(self, http, num_retries)\u001b[0m\n\u001b[0;32m    890\u001b[0m \u001b[1;33m\u001b[0m\u001b[0m\n\u001b[0;32m    891\u001b[0m         \u001b[1;31m# Handle retries for server-side errors.\u001b[0m\u001b[1;33m\u001b[0m\u001b[1;33m\u001b[0m\u001b[1;33m\u001b[0m\u001b[0m\n\u001b[1;32m--> 892\u001b[1;33m         resp, content = _retry_request(\n\u001b[0m\u001b[0;32m    893\u001b[0m             \u001b[0mhttp\u001b[0m\u001b[1;33m,\u001b[0m\u001b[1;33m\u001b[0m\u001b[1;33m\u001b[0m\u001b[0m\n\u001b[0;32m    894\u001b[0m             \u001b[0mnum_retries\u001b[0m\u001b[1;33m,\u001b[0m\u001b[1;33m\u001b[0m\u001b[1;33m\u001b[0m\u001b[0m\n",
      "\u001b[1;32m~\\anaconda3\\lib\\site-packages\\googleapiclient\\http.py\u001b[0m in \u001b[0;36m_retry_request\u001b[1;34m(http, num_retries, req_type, sleep, rand, uri, method, *args, **kwargs)\u001b[0m\n\u001b[0;32m    175\u001b[0m         \u001b[1;32mtry\u001b[0m\u001b[1;33m:\u001b[0m\u001b[1;33m\u001b[0m\u001b[1;33m\u001b[0m\u001b[0m\n\u001b[0;32m    176\u001b[0m             \u001b[0mexception\u001b[0m \u001b[1;33m=\u001b[0m \u001b[1;32mNone\u001b[0m\u001b[1;33m\u001b[0m\u001b[1;33m\u001b[0m\u001b[0m\n\u001b[1;32m--> 177\u001b[1;33m             \u001b[0mresp\u001b[0m\u001b[1;33m,\u001b[0m \u001b[0mcontent\u001b[0m \u001b[1;33m=\u001b[0m \u001b[0mhttp\u001b[0m\u001b[1;33m.\u001b[0m\u001b[0mrequest\u001b[0m\u001b[1;33m(\u001b[0m\u001b[0muri\u001b[0m\u001b[1;33m,\u001b[0m \u001b[0mmethod\u001b[0m\u001b[1;33m,\u001b[0m \u001b[1;33m*\u001b[0m\u001b[0margs\u001b[0m\u001b[1;33m,\u001b[0m \u001b[1;33m**\u001b[0m\u001b[0mkwargs\u001b[0m\u001b[1;33m)\u001b[0m\u001b[1;33m\u001b[0m\u001b[1;33m\u001b[0m\u001b[0m\n\u001b[0m\u001b[0;32m    178\u001b[0m         \u001b[1;31m# Retry on SSL errors and socket timeout errors.\u001b[0m\u001b[1;33m\u001b[0m\u001b[1;33m\u001b[0m\u001b[1;33m\u001b[0m\u001b[0m\n\u001b[0;32m    179\u001b[0m         \u001b[1;32mexcept\u001b[0m \u001b[0m_ssl_SSLError\u001b[0m \u001b[1;32mas\u001b[0m \u001b[0mssl_error\u001b[0m\u001b[1;33m:\u001b[0m\u001b[1;33m\u001b[0m\u001b[1;33m\u001b[0m\u001b[0m\n",
      "\u001b[1;32m~\\anaconda3\\lib\\site-packages\\google_auth_httplib2.py\u001b[0m in \u001b[0;36mrequest\u001b[1;34m(self, uri, method, body, headers, **kwargs)\u001b[0m\n\u001b[0;32m    198\u001b[0m \u001b[1;33m\u001b[0m\u001b[0m\n\u001b[0;32m    199\u001b[0m         \u001b[1;31m# Make the request.\u001b[0m\u001b[1;33m\u001b[0m\u001b[1;33m\u001b[0m\u001b[1;33m\u001b[0m\u001b[0m\n\u001b[1;32m--> 200\u001b[1;33m         response, content = self.http.request(\n\u001b[0m\u001b[0;32m    201\u001b[0m             uri, method, body=body, headers=request_headers, **kwargs)\n\u001b[0;32m    202\u001b[0m \u001b[1;33m\u001b[0m\u001b[0m\n",
      "\u001b[1;32m~\\anaconda3\\lib\\site-packages\\httplib2\\__init__.py\u001b[0m in \u001b[0;36mrequest\u001b[1;34m(self, uri, method, body, headers, redirections, connection_type)\u001b[0m\n\u001b[0;32m   1983\u001b[0m                     \u001b[0mcontent\u001b[0m \u001b[1;33m=\u001b[0m \u001b[1;34mb\"\"\u001b[0m\u001b[1;33m\u001b[0m\u001b[1;33m\u001b[0m\u001b[0m\n\u001b[0;32m   1984\u001b[0m                 \u001b[1;32melse\u001b[0m\u001b[1;33m:\u001b[0m\u001b[1;33m\u001b[0m\u001b[1;33m\u001b[0m\u001b[0m\n\u001b[1;32m-> 1985\u001b[1;33m                     (response, content) = self._request(\n\u001b[0m\u001b[0;32m   1986\u001b[0m                         \u001b[0mconn\u001b[0m\u001b[1;33m,\u001b[0m\u001b[1;33m\u001b[0m\u001b[1;33m\u001b[0m\u001b[0m\n\u001b[0;32m   1987\u001b[0m                         \u001b[0mauthority\u001b[0m\u001b[1;33m,\u001b[0m\u001b[1;33m\u001b[0m\u001b[1;33m\u001b[0m\u001b[0m\n",
      "\u001b[1;32m~\\anaconda3\\lib\\site-packages\\httplib2\\__init__.py\u001b[0m in \u001b[0;36m_request\u001b[1;34m(self, conn, host, absolute_uri, request_uri, method, body, headers, redirections, cachekey)\u001b[0m\n\u001b[0;32m   1648\u001b[0m             \u001b[0mauth\u001b[0m\u001b[1;33m.\u001b[0m\u001b[0mrequest\u001b[0m\u001b[1;33m(\u001b[0m\u001b[0mmethod\u001b[0m\u001b[1;33m,\u001b[0m \u001b[0mrequest_uri\u001b[0m\u001b[1;33m,\u001b[0m \u001b[0mheaders\u001b[0m\u001b[1;33m,\u001b[0m \u001b[0mbody\u001b[0m\u001b[1;33m)\u001b[0m\u001b[1;33m\u001b[0m\u001b[1;33m\u001b[0m\u001b[0m\n\u001b[0;32m   1649\u001b[0m \u001b[1;33m\u001b[0m\u001b[0m\n\u001b[1;32m-> 1650\u001b[1;33m         (response, content) = self._conn_request(\n\u001b[0m\u001b[0;32m   1651\u001b[0m             \u001b[0mconn\u001b[0m\u001b[1;33m,\u001b[0m \u001b[0mrequest_uri\u001b[0m\u001b[1;33m,\u001b[0m \u001b[0mmethod\u001b[0m\u001b[1;33m,\u001b[0m \u001b[0mbody\u001b[0m\u001b[1;33m,\u001b[0m \u001b[0mheaders\u001b[0m\u001b[1;33m\u001b[0m\u001b[1;33m\u001b[0m\u001b[0m\n\u001b[0;32m   1652\u001b[0m         )\n",
      "\u001b[1;32m~\\anaconda3\\lib\\site-packages\\httplib2shim\\__init__.py\u001b[0m in \u001b[0;36m_conn_request\u001b[1;34m(self, conn, request_uri, method, body, headers)\u001b[0m\n\u001b[0;32m    138\u001b[0m \u001b[1;33m\u001b[0m\u001b[0m\n\u001b[0;32m    139\u001b[0m         \u001b[1;32mtry\u001b[0m\u001b[1;33m:\u001b[0m\u001b[1;33m\u001b[0m\u001b[1;33m\u001b[0m\u001b[0m\n\u001b[1;32m--> 140\u001b[1;33m             urllib3_response = self.pool.request(\n\u001b[0m\u001b[0;32m    141\u001b[0m                 \u001b[0mmethod\u001b[0m\u001b[1;33m,\u001b[0m\u001b[1;33m\u001b[0m\u001b[1;33m\u001b[0m\u001b[0m\n\u001b[0;32m    142\u001b[0m                 \u001b[0mfull_uri\u001b[0m\u001b[1;33m,\u001b[0m\u001b[1;33m\u001b[0m\u001b[1;33m\u001b[0m\u001b[0m\n",
      "\u001b[1;32m~\\anaconda3\\lib\\site-packages\\urllib3\\request.py\u001b[0m in \u001b[0;36mrequest\u001b[1;34m(self, method, url, fields, headers, **urlopen_kw)\u001b[0m\n\u001b[0;32m     77\u001b[0m             )\n\u001b[0;32m     78\u001b[0m         \u001b[1;32melse\u001b[0m\u001b[1;33m:\u001b[0m\u001b[1;33m\u001b[0m\u001b[1;33m\u001b[0m\u001b[0m\n\u001b[1;32m---> 79\u001b[1;33m             return self.request_encode_body(\n\u001b[0m\u001b[0;32m     80\u001b[0m                 \u001b[0mmethod\u001b[0m\u001b[1;33m,\u001b[0m \u001b[0murl\u001b[0m\u001b[1;33m,\u001b[0m \u001b[0mfields\u001b[0m\u001b[1;33m=\u001b[0m\u001b[0mfields\u001b[0m\u001b[1;33m,\u001b[0m \u001b[0mheaders\u001b[0m\u001b[1;33m=\u001b[0m\u001b[0mheaders\u001b[0m\u001b[1;33m,\u001b[0m \u001b[1;33m**\u001b[0m\u001b[0murlopen_kw\u001b[0m\u001b[1;33m\u001b[0m\u001b[1;33m\u001b[0m\u001b[0m\n\u001b[0;32m     81\u001b[0m             )\n",
      "\u001b[1;32m~\\anaconda3\\lib\\site-packages\\urllib3\\request.py\u001b[0m in \u001b[0;36mrequest_encode_body\u001b[1;34m(self, method, url, fields, headers, encode_multipart, multipart_boundary, **urlopen_kw)\u001b[0m\n\u001b[0;32m    169\u001b[0m         \u001b[0mextra_kw\u001b[0m\u001b[1;33m.\u001b[0m\u001b[0mupdate\u001b[0m\u001b[1;33m(\u001b[0m\u001b[0murlopen_kw\u001b[0m\u001b[1;33m)\u001b[0m\u001b[1;33m\u001b[0m\u001b[1;33m\u001b[0m\u001b[0m\n\u001b[0;32m    170\u001b[0m \u001b[1;33m\u001b[0m\u001b[0m\n\u001b[1;32m--> 171\u001b[1;33m         \u001b[1;32mreturn\u001b[0m \u001b[0mself\u001b[0m\u001b[1;33m.\u001b[0m\u001b[0murlopen\u001b[0m\u001b[1;33m(\u001b[0m\u001b[0mmethod\u001b[0m\u001b[1;33m,\u001b[0m \u001b[0murl\u001b[0m\u001b[1;33m,\u001b[0m \u001b[1;33m**\u001b[0m\u001b[0mextra_kw\u001b[0m\u001b[1;33m)\u001b[0m\u001b[1;33m\u001b[0m\u001b[1;33m\u001b[0m\u001b[0m\n\u001b[0m",
      "\u001b[1;32m~\\anaconda3\\lib\\site-packages\\urllib3\\poolmanager.py\u001b[0m in \u001b[0;36murlopen\u001b[1;34m(self, method, url, redirect, **kw)\u001b[0m\n\u001b[0;32m    334\u001b[0m             \u001b[0mresponse\u001b[0m \u001b[1;33m=\u001b[0m \u001b[0mconn\u001b[0m\u001b[1;33m.\u001b[0m\u001b[0murlopen\u001b[0m\u001b[1;33m(\u001b[0m\u001b[0mmethod\u001b[0m\u001b[1;33m,\u001b[0m \u001b[0murl\u001b[0m\u001b[1;33m,\u001b[0m \u001b[1;33m**\u001b[0m\u001b[0mkw\u001b[0m\u001b[1;33m)\u001b[0m\u001b[1;33m\u001b[0m\u001b[1;33m\u001b[0m\u001b[0m\n\u001b[0;32m    335\u001b[0m         \u001b[1;32melse\u001b[0m\u001b[1;33m:\u001b[0m\u001b[1;33m\u001b[0m\u001b[1;33m\u001b[0m\u001b[0m\n\u001b[1;32m--> 336\u001b[1;33m             \u001b[0mresponse\u001b[0m \u001b[1;33m=\u001b[0m \u001b[0mconn\u001b[0m\u001b[1;33m.\u001b[0m\u001b[0murlopen\u001b[0m\u001b[1;33m(\u001b[0m\u001b[0mmethod\u001b[0m\u001b[1;33m,\u001b[0m \u001b[0mu\u001b[0m\u001b[1;33m.\u001b[0m\u001b[0mrequest_uri\u001b[0m\u001b[1;33m,\u001b[0m \u001b[1;33m**\u001b[0m\u001b[0mkw\u001b[0m\u001b[1;33m)\u001b[0m\u001b[1;33m\u001b[0m\u001b[1;33m\u001b[0m\u001b[0m\n\u001b[0m\u001b[0;32m    337\u001b[0m \u001b[1;33m\u001b[0m\u001b[0m\n\u001b[0;32m    338\u001b[0m         \u001b[0mredirect_location\u001b[0m \u001b[1;33m=\u001b[0m \u001b[0mredirect\u001b[0m \u001b[1;32mand\u001b[0m \u001b[0mresponse\u001b[0m\u001b[1;33m.\u001b[0m\u001b[0mget_redirect_location\u001b[0m\u001b[1;33m(\u001b[0m\u001b[1;33m)\u001b[0m\u001b[1;33m\u001b[0m\u001b[1;33m\u001b[0m\u001b[0m\n",
      "\u001b[1;32m~\\anaconda3\\lib\\site-packages\\urllib3\\connectionpool.py\u001b[0m in \u001b[0;36murlopen\u001b[1;34m(self, method, url, body, headers, retries, redirect, assert_same_host, timeout, pool_timeout, release_conn, chunked, body_pos, **response_kw)\u001b[0m\n\u001b[0;32m    668\u001b[0m \u001b[1;33m\u001b[0m\u001b[0m\n\u001b[0;32m    669\u001b[0m             \u001b[1;31m# Make the request on the httplib connection object.\u001b[0m\u001b[1;33m\u001b[0m\u001b[1;33m\u001b[0m\u001b[1;33m\u001b[0m\u001b[0m\n\u001b[1;32m--> 670\u001b[1;33m             httplib_response = self._make_request(\n\u001b[0m\u001b[0;32m    671\u001b[0m                 \u001b[0mconn\u001b[0m\u001b[1;33m,\u001b[0m\u001b[1;33m\u001b[0m\u001b[1;33m\u001b[0m\u001b[0m\n\u001b[0;32m    672\u001b[0m                 \u001b[0mmethod\u001b[0m\u001b[1;33m,\u001b[0m\u001b[1;33m\u001b[0m\u001b[1;33m\u001b[0m\u001b[0m\n",
      "\u001b[1;32m~\\anaconda3\\lib\\site-packages\\urllib3\\connectionpool.py\u001b[0m in \u001b[0;36m_make_request\u001b[1;34m(self, conn, method, url, timeout, chunked, **httplib_request_kw)\u001b[0m\n\u001b[0;32m    424\u001b[0m                     \u001b[1;31m# Python 3 (including for exceptions like SystemExit).\u001b[0m\u001b[1;33m\u001b[0m\u001b[1;33m\u001b[0m\u001b[1;33m\u001b[0m\u001b[0m\n\u001b[0;32m    425\u001b[0m                     \u001b[1;31m# Otherwise it looks like a bug in the code.\u001b[0m\u001b[1;33m\u001b[0m\u001b[1;33m\u001b[0m\u001b[1;33m\u001b[0m\u001b[0m\n\u001b[1;32m--> 426\u001b[1;33m                     \u001b[0msix\u001b[0m\u001b[1;33m.\u001b[0m\u001b[0mraise_from\u001b[0m\u001b[1;33m(\u001b[0m\u001b[0me\u001b[0m\u001b[1;33m,\u001b[0m \u001b[1;32mNone\u001b[0m\u001b[1;33m)\u001b[0m\u001b[1;33m\u001b[0m\u001b[1;33m\u001b[0m\u001b[0m\n\u001b[0m\u001b[0;32m    427\u001b[0m         \u001b[1;32mexcept\u001b[0m \u001b[1;33m(\u001b[0m\u001b[0mSocketTimeout\u001b[0m\u001b[1;33m,\u001b[0m \u001b[0mBaseSSLError\u001b[0m\u001b[1;33m,\u001b[0m \u001b[0mSocketError\u001b[0m\u001b[1;33m)\u001b[0m \u001b[1;32mas\u001b[0m \u001b[0me\u001b[0m\u001b[1;33m:\u001b[0m\u001b[1;33m\u001b[0m\u001b[1;33m\u001b[0m\u001b[0m\n\u001b[0;32m    428\u001b[0m             \u001b[0mself\u001b[0m\u001b[1;33m.\u001b[0m\u001b[0m_raise_timeout\u001b[0m\u001b[1;33m(\u001b[0m\u001b[0merr\u001b[0m\u001b[1;33m=\u001b[0m\u001b[0me\u001b[0m\u001b[1;33m,\u001b[0m \u001b[0murl\u001b[0m\u001b[1;33m=\u001b[0m\u001b[0murl\u001b[0m\u001b[1;33m,\u001b[0m \u001b[0mtimeout_value\u001b[0m\u001b[1;33m=\u001b[0m\u001b[0mread_timeout\u001b[0m\u001b[1;33m)\u001b[0m\u001b[1;33m\u001b[0m\u001b[1;33m\u001b[0m\u001b[0m\n",
      "\u001b[1;32m~\\anaconda3\\lib\\site-packages\\urllib3\\packages\\six.py\u001b[0m in \u001b[0;36mraise_from\u001b[1;34m(value, from_value)\u001b[0m\n",
      "\u001b[1;32m~\\anaconda3\\lib\\site-packages\\urllib3\\connectionpool.py\u001b[0m in \u001b[0;36m_make_request\u001b[1;34m(self, conn, method, url, timeout, chunked, **httplib_request_kw)\u001b[0m\n\u001b[0;32m    419\u001b[0m                 \u001b[1;31m# Python 3\u001b[0m\u001b[1;33m\u001b[0m\u001b[1;33m\u001b[0m\u001b[1;33m\u001b[0m\u001b[0m\n\u001b[0;32m    420\u001b[0m                 \u001b[1;32mtry\u001b[0m\u001b[1;33m:\u001b[0m\u001b[1;33m\u001b[0m\u001b[1;33m\u001b[0m\u001b[0m\n\u001b[1;32m--> 421\u001b[1;33m                     \u001b[0mhttplib_response\u001b[0m \u001b[1;33m=\u001b[0m \u001b[0mconn\u001b[0m\u001b[1;33m.\u001b[0m\u001b[0mgetresponse\u001b[0m\u001b[1;33m(\u001b[0m\u001b[1;33m)\u001b[0m\u001b[1;33m\u001b[0m\u001b[1;33m\u001b[0m\u001b[0m\n\u001b[0m\u001b[0;32m    422\u001b[0m                 \u001b[1;32mexcept\u001b[0m \u001b[0mBaseException\u001b[0m \u001b[1;32mas\u001b[0m \u001b[0me\u001b[0m\u001b[1;33m:\u001b[0m\u001b[1;33m\u001b[0m\u001b[1;33m\u001b[0m\u001b[0m\n\u001b[0;32m    423\u001b[0m                     \u001b[1;31m# Remove the TypeError from the exception chain in\u001b[0m\u001b[1;33m\u001b[0m\u001b[1;33m\u001b[0m\u001b[1;33m\u001b[0m\u001b[0m\n",
      "\u001b[1;32m~\\anaconda3\\lib\\http\\client.py\u001b[0m in \u001b[0;36mgetresponse\u001b[1;34m(self)\u001b[0m\n\u001b[0;32m   1330\u001b[0m         \u001b[1;32mtry\u001b[0m\u001b[1;33m:\u001b[0m\u001b[1;33m\u001b[0m\u001b[1;33m\u001b[0m\u001b[0m\n\u001b[0;32m   1331\u001b[0m             \u001b[1;32mtry\u001b[0m\u001b[1;33m:\u001b[0m\u001b[1;33m\u001b[0m\u001b[1;33m\u001b[0m\u001b[0m\n\u001b[1;32m-> 1332\u001b[1;33m                 \u001b[0mresponse\u001b[0m\u001b[1;33m.\u001b[0m\u001b[0mbegin\u001b[0m\u001b[1;33m(\u001b[0m\u001b[1;33m)\u001b[0m\u001b[1;33m\u001b[0m\u001b[1;33m\u001b[0m\u001b[0m\n\u001b[0m\u001b[0;32m   1333\u001b[0m             \u001b[1;32mexcept\u001b[0m \u001b[0mConnectionError\u001b[0m\u001b[1;33m:\u001b[0m\u001b[1;33m\u001b[0m\u001b[1;33m\u001b[0m\u001b[0m\n\u001b[0;32m   1334\u001b[0m                 \u001b[0mself\u001b[0m\u001b[1;33m.\u001b[0m\u001b[0mclose\u001b[0m\u001b[1;33m(\u001b[0m\u001b[1;33m)\u001b[0m\u001b[1;33m\u001b[0m\u001b[1;33m\u001b[0m\u001b[0m\n",
      "\u001b[1;32m~\\anaconda3\\lib\\http\\client.py\u001b[0m in \u001b[0;36mbegin\u001b[1;34m(self)\u001b[0m\n\u001b[0;32m    301\u001b[0m         \u001b[1;31m# read until we get a non-100 response\u001b[0m\u001b[1;33m\u001b[0m\u001b[1;33m\u001b[0m\u001b[1;33m\u001b[0m\u001b[0m\n\u001b[0;32m    302\u001b[0m         \u001b[1;32mwhile\u001b[0m \u001b[1;32mTrue\u001b[0m\u001b[1;33m:\u001b[0m\u001b[1;33m\u001b[0m\u001b[1;33m\u001b[0m\u001b[0m\n\u001b[1;32m--> 303\u001b[1;33m             \u001b[0mversion\u001b[0m\u001b[1;33m,\u001b[0m \u001b[0mstatus\u001b[0m\u001b[1;33m,\u001b[0m \u001b[0mreason\u001b[0m \u001b[1;33m=\u001b[0m \u001b[0mself\u001b[0m\u001b[1;33m.\u001b[0m\u001b[0m_read_status\u001b[0m\u001b[1;33m(\u001b[0m\u001b[1;33m)\u001b[0m\u001b[1;33m\u001b[0m\u001b[1;33m\u001b[0m\u001b[0m\n\u001b[0m\u001b[0;32m    304\u001b[0m             \u001b[1;32mif\u001b[0m \u001b[0mstatus\u001b[0m \u001b[1;33m!=\u001b[0m \u001b[0mCONTINUE\u001b[0m\u001b[1;33m:\u001b[0m\u001b[1;33m\u001b[0m\u001b[1;33m\u001b[0m\u001b[0m\n\u001b[0;32m    305\u001b[0m                 \u001b[1;32mbreak\u001b[0m\u001b[1;33m\u001b[0m\u001b[1;33m\u001b[0m\u001b[0m\n",
      "\u001b[1;32m~\\anaconda3\\lib\\http\\client.py\u001b[0m in \u001b[0;36m_read_status\u001b[1;34m(self)\u001b[0m\n\u001b[0;32m    262\u001b[0m \u001b[1;33m\u001b[0m\u001b[0m\n\u001b[0;32m    263\u001b[0m     \u001b[1;32mdef\u001b[0m \u001b[0m_read_status\u001b[0m\u001b[1;33m(\u001b[0m\u001b[0mself\u001b[0m\u001b[1;33m)\u001b[0m\u001b[1;33m:\u001b[0m\u001b[1;33m\u001b[0m\u001b[1;33m\u001b[0m\u001b[0m\n\u001b[1;32m--> 264\u001b[1;33m         \u001b[0mline\u001b[0m \u001b[1;33m=\u001b[0m \u001b[0mstr\u001b[0m\u001b[1;33m(\u001b[0m\u001b[0mself\u001b[0m\u001b[1;33m.\u001b[0m\u001b[0mfp\u001b[0m\u001b[1;33m.\u001b[0m\u001b[0mreadline\u001b[0m\u001b[1;33m(\u001b[0m\u001b[0m_MAXLINE\u001b[0m \u001b[1;33m+\u001b[0m \u001b[1;36m1\u001b[0m\u001b[1;33m)\u001b[0m\u001b[1;33m,\u001b[0m \u001b[1;34m\"iso-8859-1\"\u001b[0m\u001b[1;33m)\u001b[0m\u001b[1;33m\u001b[0m\u001b[1;33m\u001b[0m\u001b[0m\n\u001b[0m\u001b[0;32m    265\u001b[0m         \u001b[1;32mif\u001b[0m \u001b[0mlen\u001b[0m\u001b[1;33m(\u001b[0m\u001b[0mline\u001b[0m\u001b[1;33m)\u001b[0m \u001b[1;33m>\u001b[0m \u001b[0m_MAXLINE\u001b[0m\u001b[1;33m:\u001b[0m\u001b[1;33m\u001b[0m\u001b[1;33m\u001b[0m\u001b[0m\n\u001b[0;32m    266\u001b[0m             \u001b[1;32mraise\u001b[0m \u001b[0mLineTooLong\u001b[0m\u001b[1;33m(\u001b[0m\u001b[1;34m\"status line\"\u001b[0m\u001b[1;33m)\u001b[0m\u001b[1;33m\u001b[0m\u001b[1;33m\u001b[0m\u001b[0m\n",
      "\u001b[1;32m~\\anaconda3\\lib\\socket.py\u001b[0m in \u001b[0;36mreadinto\u001b[1;34m(self, b)\u001b[0m\n\u001b[0;32m    667\u001b[0m         \u001b[1;32mwhile\u001b[0m \u001b[1;32mTrue\u001b[0m\u001b[1;33m:\u001b[0m\u001b[1;33m\u001b[0m\u001b[1;33m\u001b[0m\u001b[0m\n\u001b[0;32m    668\u001b[0m             \u001b[1;32mtry\u001b[0m\u001b[1;33m:\u001b[0m\u001b[1;33m\u001b[0m\u001b[1;33m\u001b[0m\u001b[0m\n\u001b[1;32m--> 669\u001b[1;33m                 \u001b[1;32mreturn\u001b[0m \u001b[0mself\u001b[0m\u001b[1;33m.\u001b[0m\u001b[0m_sock\u001b[0m\u001b[1;33m.\u001b[0m\u001b[0mrecv_into\u001b[0m\u001b[1;33m(\u001b[0m\u001b[0mb\u001b[0m\u001b[1;33m)\u001b[0m\u001b[1;33m\u001b[0m\u001b[1;33m\u001b[0m\u001b[0m\n\u001b[0m\u001b[0;32m    670\u001b[0m             \u001b[1;32mexcept\u001b[0m \u001b[0mtimeout\u001b[0m\u001b[1;33m:\u001b[0m\u001b[1;33m\u001b[0m\u001b[1;33m\u001b[0m\u001b[0m\n\u001b[0;32m    671\u001b[0m                 \u001b[0mself\u001b[0m\u001b[1;33m.\u001b[0m\u001b[0m_timeout_occurred\u001b[0m \u001b[1;33m=\u001b[0m \u001b[1;32mTrue\u001b[0m\u001b[1;33m\u001b[0m\u001b[1;33m\u001b[0m\u001b[0m\n",
      "\u001b[1;32m~\\anaconda3\\lib\\ssl.py\u001b[0m in \u001b[0;36mrecv_into\u001b[1;34m(self, buffer, nbytes, flags)\u001b[0m\n\u001b[0;32m   1239\u001b[0m                   \u001b[1;34m\"non-zero flags not allowed in calls to recv_into() on %s\"\u001b[0m \u001b[1;33m%\u001b[0m\u001b[1;33m\u001b[0m\u001b[1;33m\u001b[0m\u001b[0m\n\u001b[0;32m   1240\u001b[0m                   self.__class__)\n\u001b[1;32m-> 1241\u001b[1;33m             \u001b[1;32mreturn\u001b[0m \u001b[0mself\u001b[0m\u001b[1;33m.\u001b[0m\u001b[0mread\u001b[0m\u001b[1;33m(\u001b[0m\u001b[0mnbytes\u001b[0m\u001b[1;33m,\u001b[0m \u001b[0mbuffer\u001b[0m\u001b[1;33m)\u001b[0m\u001b[1;33m\u001b[0m\u001b[1;33m\u001b[0m\u001b[0m\n\u001b[0m\u001b[0;32m   1242\u001b[0m         \u001b[1;32melse\u001b[0m\u001b[1;33m:\u001b[0m\u001b[1;33m\u001b[0m\u001b[1;33m\u001b[0m\u001b[0m\n\u001b[0;32m   1243\u001b[0m             \u001b[1;32mreturn\u001b[0m \u001b[0msuper\u001b[0m\u001b[1;33m(\u001b[0m\u001b[1;33m)\u001b[0m\u001b[1;33m.\u001b[0m\u001b[0mrecv_into\u001b[0m\u001b[1;33m(\u001b[0m\u001b[0mbuffer\u001b[0m\u001b[1;33m,\u001b[0m \u001b[0mnbytes\u001b[0m\u001b[1;33m,\u001b[0m \u001b[0mflags\u001b[0m\u001b[1;33m)\u001b[0m\u001b[1;33m\u001b[0m\u001b[1;33m\u001b[0m\u001b[0m\n",
      "\u001b[1;32m~\\anaconda3\\lib\\ssl.py\u001b[0m in \u001b[0;36mread\u001b[1;34m(self, len, buffer)\u001b[0m\n\u001b[0;32m   1097\u001b[0m         \u001b[1;32mtry\u001b[0m\u001b[1;33m:\u001b[0m\u001b[1;33m\u001b[0m\u001b[1;33m\u001b[0m\u001b[0m\n\u001b[0;32m   1098\u001b[0m             \u001b[1;32mif\u001b[0m \u001b[0mbuffer\u001b[0m \u001b[1;32mis\u001b[0m \u001b[1;32mnot\u001b[0m \u001b[1;32mNone\u001b[0m\u001b[1;33m:\u001b[0m\u001b[1;33m\u001b[0m\u001b[1;33m\u001b[0m\u001b[0m\n\u001b[1;32m-> 1099\u001b[1;33m                 \u001b[1;32mreturn\u001b[0m \u001b[0mself\u001b[0m\u001b[1;33m.\u001b[0m\u001b[0m_sslobj\u001b[0m\u001b[1;33m.\u001b[0m\u001b[0mread\u001b[0m\u001b[1;33m(\u001b[0m\u001b[0mlen\u001b[0m\u001b[1;33m,\u001b[0m \u001b[0mbuffer\u001b[0m\u001b[1;33m)\u001b[0m\u001b[1;33m\u001b[0m\u001b[1;33m\u001b[0m\u001b[0m\n\u001b[0m\u001b[0;32m   1100\u001b[0m             \u001b[1;32melse\u001b[0m\u001b[1;33m:\u001b[0m\u001b[1;33m\u001b[0m\u001b[1;33m\u001b[0m\u001b[0m\n\u001b[0;32m   1101\u001b[0m                 \u001b[1;32mreturn\u001b[0m \u001b[0mself\u001b[0m\u001b[1;33m.\u001b[0m\u001b[0m_sslobj\u001b[0m\u001b[1;33m.\u001b[0m\u001b[0mread\u001b[0m\u001b[1;33m(\u001b[0m\u001b[0mlen\u001b[0m\u001b[1;33m)\u001b[0m\u001b[1;33m\u001b[0m\u001b[1;33m\u001b[0m\u001b[0m\n",
      "\u001b[1;31mKeyboardInterrupt\u001b[0m: "
     ]
    }
   ],
   "source": [
    "# # step = 500\n",
    "# # count_filter = 5000\n",
    "# for i in range(131, 132):\n",
    "#     for j in range(49, 37, -1):\n",
    "# # for i in range(130, 131):\n",
    "# #     for j in range(44, 37, -1):\n",
    "# # # for i, j in [(125, 53),(117, 54), (117, 52), (116, 54), (116, 52), (115, 53),\n",
    "# # #              (115, 54), (117, 53), (124, 54), (118, 53), (119, 53), (120, 53)]:\n",
    "for i in range(117, 137):\n",
    "    for j in range(38, 54):\n",
    "        roi = ee.Geometry.Polygon(\n",
    "             [[i-0.01,j+0.01],[i+1.01,j+0.01],[i+1.01,j-1.01],[i-0.01,j-1.01]])\n",
    "        exportImg = changeMap.clip(roi).short().select('yod')\n",
    "        exportImg = exportImg.unmask(0).focal_median(**{\n",
    "        'radius': 2.5,\n",
    "        'kernelType': 'square'\n",
    "        }).toInt()\n",
    "        maskImg = IFZ_mask.clip(roi)\n",
    "        exportImg = exportImg.mask(exportImg.eq(0).Not())\n",
    "        for year in range(start_year, end_year + 1):\n",
    "            if year != 2012:\n",
    "                if year != start_year:\n",
    "                    shp_ogr = tif_to_shp(mask_last_year(shp_pre, exportImg, year, roi), year)\n",
    "                    shp_pre = ruduce_year(shp_ogr, exportImg, year)\n",
    "                    shp_ogr = reduce_mask(shp_pre, maskImg)\n",
    "                else:\n",
    "                    shp_ogr = tif_to_shp(exportImg, year)\n",
    "                    shp_pre = ruduce_year(shp_ogr, exportImg, year)\n",
    "                    shp_ogr = reduce_mask(shp_pre, maskImg)\n",
    "                if year > 2000:\n",
    "                    image_fire = fire_process(roi, image_collection_fire, year).unmask(0)\n",
    "                    shp_fire_classify = feature_extract(shp_ogr, image_fire, ['fire_class'])\n",
    "                    shp_unfire = sievel(shp_fire_classify, 'fire_class', 0, 'equals')\n",
    "                    shp_unfire = shp_unfire.set('fire_class', 1)\n",
    "                    shp_fire = sievel(shp_fire_classify, 'fire_class', 0, 'greater_than')\n",
    "                    shp_fire = shp_fire.set('fire_class', 0)\n",
    "                    shp = process(shp_unfire, year).merge(shp_fire)\n",
    "                else:\n",
    "                    shp = process(shp_ogr, year)\n",
    "                export_to_driver(shp, year, i, j, 30)"
   ]
  },
  {
   "cell_type": "code",
   "execution_count": null,
   "metadata": {
    "ExecuteTime": {
     "end_time": "2021-06-02T02:32:38.629960Z",
     "start_time": "2021-06-02T02:32:38.616993Z"
    },
    "hide_input": true,
    "scrolled": true
   },
   "outputs": [],
   "source": [
    "# # step = 500\n",
    "# # count_filter = 5000\n",
    "# for i in range(132, 137):\n",
    "#     for j in range(54, 37, -1):\n",
    "# # for i in range(130, 131):\n",
    "# #     for j in range(44, 37, -1):\n",
    "# # # for i, j in [(125, 53),(117, 54), (117, 52), (116, 54), (116, 52), (115, 53),\n",
    "# # #              (115, 54), (117, 53), (124, 54), (118, 53), (119, 53), (120, 53)]:\n",
    "#         for year in range(start_year, end_year + 1):\n",
    "# #         if year == 2003:\n",
    "#             roi = ee.Geometry.Polygon(\n",
    "#                 [[i-0.01,j+0.01],[i+1.01,j+0.01],[i+1.01,j-1.01],[i-0.01,j-1.01]])\n",
    "#             exportImg = changeMap.clip(roi).short()\n",
    "#             shp_ogr = tif_to_shp(exportImg.select('yod'), year)\n",
    "#             image_fire = fire_process(roi, image_collection_fire, year).unmask(0)\n",
    "#             shp_fire_classify = feature_extract(shp_ogr, image_fire, ['fire_class'])\n",
    "#             shp_unfire = sievel(shp_fire_classify, 'fire_class', 0, 'equals')\n",
    "#             shp_unfire = shp_unfire.set('fire_class', 1)\n",
    "#             shp_fire = sievel(shp_fire_classify, 'fire_class', 0, 'greater_than')\n",
    "#             shp_fire = shp_fire.set('fire_class', 0)\n",
    "# #                 shp_s = shp_part_process(shp_unfire, year, count_filter, 's', 5, step)\n",
    "# #                 for count in tqdm(range(step + 5, count_filter + 6, step), desc=str(i) + '_' + str(j)):\n",
    "# #                     shp_s = shp_s.merge(shp_part_process(shp_unfire, year, count_filter, 's', count, step))\n",
    "# #                 shp_b = shp_part_process(shp_unfire, year, count_filter, 'b', count, step)\n",
    "# #                 shp = shp_s.merge(shp_b).merge(shp_fire)\n",
    "# #                 print(ee.Algorithms.If(shp.first(), 1, 0).getInfo())\n",
    "#             shp = process(sievel(shp_unfire, 'count', 5, 'greater_than'), year).merge(shp_fire)\n",
    "# #                 shp = process(shp_ogr, year)\n",
    "#             export_to_driver(shp, year, i, j, 30)"
   ]
  },
  {
   "cell_type": "code",
   "execution_count": null,
   "metadata": {
    "ExecuteTime": {
     "end_time": "2021-06-02T02:32:38.645917Z",
     "start_time": "2021-06-02T02:32:38.631954Z"
    }
   },
   "outputs": [],
   "source": [
    "# import os\n",
    "# os.system('shutdown /s /t 0’)"
   ]
  },
  {
   "cell_type": "code",
   "execution_count": null,
   "metadata": {},
   "outputs": [],
   "source": []
  }
 ],
 "metadata": {
  "kernelspec": {
   "display_name": "Python 3",
   "language": "python",
   "name": "python3"
  },
  "language_info": {
   "codemirror_mode": {
    "name": "ipython",
    "version": 3
   },
   "file_extension": ".py",
   "mimetype": "text/x-python",
   "name": "python",
   "nbconvert_exporter": "python",
   "pygments_lexer": "ipython3",
   "version": "3.8.3"
  },
  "varInspector": {
   "cols": {
    "lenName": 16,
    "lenType": 16,
    "lenVar": 40
   },
   "kernels_config": {
    "python": {
     "delete_cmd_postfix": "",
     "delete_cmd_prefix": "del ",
     "library": "var_list.py",
     "varRefreshCmd": "print(var_dic_list())"
    },
    "r": {
     "delete_cmd_postfix": ") ",
     "delete_cmd_prefix": "rm(",
     "library": "var_list.r",
     "varRefreshCmd": "cat(var_dic_list()) "
    }
   },
   "types_to_exclude": [
    "module",
    "function",
    "builtin_function_or_method",
    "instance",
    "_Feature"
   ],
   "window_display": false
  }
 },
 "nbformat": 4,
 "nbformat_minor": 4
}
