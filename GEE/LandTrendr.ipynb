{
 "cells": [
  {
   "cell_type": "code",
   "execution_count": null,
   "metadata": {},
   "outputs": [],
   "source": [
    "import ee\n",
    "ee.Initialize()"
   ]
  },
  {
   "cell_type": "code",
   "execution_count": 8,
   "metadata": {},
   "outputs": [],
   "source": [
    "def addNDVI(image):\n",
    "    ndvi = image.normalizedDifference(['B5', 'B4']).rename('NDVI')\n",
    "    return image.addBands(ndvi)\n",
    "\n",
    "\n",
    "def addNDVI75(image):\n",
    "    ndvi = image.normalizedDifference(['B4', 'B3']).rename('NDVI')\n",
    "    return image.addBands(ndvi)\n",
    "\n",
    "\n",
    "def select_ls(year):\n",
    "    if year >=2013:\n",
    "        ls = ee.ImageCollection(\"LANDSAT/LC08/C01/T1_TOA\")\n",
    "    elif year >= 2003:\n",
    "        ls = ee.ImageCollection(\"LANDSAT/LT05/C01/T1_TOA\")\n",
    "    elif year >= 1999:\n",
    "        ls = ee.ImageCollection(\"LANDSAT/LE07/C01/T1_TOA\").merge(ee.ImageCollection(\"LANDSAT/LT05/C01/T1_TOA\"))\n",
    "    else:\n",
    "        ls = ee.ImageCollection(\"LANDSAT/LT05/C01/T1_TOA\")\n",
    "    return ls\n",
    "\n",
    "\n",
    "def get_ndvi(image, shp, year):\n",
    "    image = image.filterBounds(shp).filterDate(str(year) + '-05-1', str(year) + '-11-1').filter(ee.Filter.lt('CLOUD_COVER', 30))\n",
    "    if year >= 2013:\n",
    "        image = image.map(addNDVI).select('NDVI').median()\n",
    "    if year < 2013:\n",
    "        image = image.map(addNDVI75).select('NDVI').median()\n",
    "    return image\n",
    "\n",
    "\n",
    "#export\n",
    "def export_to_driver(image, year):\n",
    "    taskParams = {\n",
    "    'driveFolder': 'NE_tif_LandTrendr',\n",
    "    'scale': 30,\n",
    "    'maxPixels': 1e13\n",
    "    }\n",
    "    task = ee.batch.Export.image(image, str(year), taskParams)\n",
    "    task.start()"
   ]
  },
  {
   "cell_type": "code",
   "execution_count": 9,
   "metadata": {},
   "outputs": [],
   "source": [
    "roi = ee.Geometry.Polygon([[122.3333493386204,51.28079736294542],\n",
    "[123.35782443627664,51.28079736294542],\n",
    "[123.35782443627664,51.964558045579516],\n",
    "[122.3333493386204,51.964558045579516],\n",
    "[122.3333493386204,51.28079736294542]])\n",
    "\n",
    "for year in range(1988, 2019):\n",
    "    NDVI = get_ndvi(select_ls(year), roi, year)\n",
    "    export_to_driver(NDVI, year)"
   ]
  },
  {
   "cell_type": "code",
   "execution_count": null,
   "metadata": {},
   "outputs": [],
   "source": []
  }
 ],
 "metadata": {
  "kernelspec": {
   "display_name": "Python 3",
   "language": "python",
   "name": "python3"
  },
  "language_info": {
   "codemirror_mode": {
    "name": "ipython",
    "version": 3
   },
   "file_extension": ".py",
   "mimetype": "text/x-python",
   "name": "python",
   "nbconvert_exporter": "python",
   "pygments_lexer": "ipython3",
   "version": "3.8.3"
  }
 },
 "nbformat": 4,
 "nbformat_minor": 4
}
